{
 "cells": [
  {
   "cell_type": "code",
   "execution_count": 1,
   "metadata": {
    "_cell_guid": "b1076dfc-b9ad-4769-8c92-a6c4dae69d19",
    "_uuid": "8f2839f25d086af736a60e9eeb907d3b93b6e0e5"
   },
   "outputs": [],
   "source": [
    "import numpy as np\n",
    "import pandas as pd\n",
    "from sklearn.metrics import f1_score\n",
    "from catboost import Pool\n",
    "from catboost import CatBoostClassifier\n",
    "from sklearn.model_selection import KFold, StratifiedKFold\n",
    "from sklearn.model_selection import train_test_split\n",
    "import gensim\n",
    "from tqdm.notebook import tqdm\n",
    "import warnings\n",
    "warnings.filterwarnings('ignore')\n",
    "import lightgbm as lgb"
   ]
  },
  {
   "cell_type": "code",
   "execution_count": 2,
   "metadata": {
    "_cell_guid": "79c7e3d0-c299-4dcb-8224-4455121ee9b0",
    "_uuid": "d629ff2d2480ee46fbb7e2d37f6b5fab8052498a"
   },
   "outputs": [],
   "source": [
    "train = pd.read_csv(\"/kaggle/input/ykc-2nd/train.csv\")\n",
    "test = pd.read_csv(\"/kaggle/input/ykc-2nd/test.csv\")\n",
    "sub = pd.read_csv(\"/kaggle/input/ykc-2nd/sample_submission.csv\")"
   ]
  },
  {
   "cell_type": "code",
   "execution_count": 3,
   "metadata": {},
   "outputs": [],
   "source": [
    "df = pd.concat([train, test])\n",
    "df = df.reset_index(drop=True)"
   ]
  },
  {
   "cell_type": "code",
   "execution_count": 4,
   "metadata": {},
   "outputs": [],
   "source": [
    "df[\"product_name\"] = df[\"product_name\"].apply(lambda words : words.lower().replace(\",\", \"\").replace(\"&\", \"\").split(\" \"))"
   ]
  },
  {
   "cell_type": "code",
   "execution_count": 5,
   "metadata": {},
   "outputs": [],
   "source": [
    "## 訓練済みの単語ベクトルを読み込んで，product_nameに含まれる単語をベクトルに変換して平均を取ることで，各product_idに対して特徴量ベクトルを作成する\n",
    "\n",
    "## gensimで.vecから読み込むときに時間がかかるので，他のnotebookでpickleで保存したものを使用している\n",
    "model = pd.read_pickle(\"/kaggle/input/yjfasttext/fasttext_gensim_model.pkl\") \n",
    "\n",
    "## gensimでvecから読み込む場合（５分ぐらいかかる）\n",
    "# model = gensim.models.KeyedVectors.load_word2vec_format('../input/ykc-2nd/wiki-news-300d-1M.vec/wiki-news-300d-1M.vec')\n",
    "\n",
    "from collections import defaultdict\n",
    "unused_words = defaultdict(int)\n",
    "def to_vec(x, model):\n",
    "    v = np.zeros(model.vector_size)\n",
    "    for w in x:\n",
    "        try:\n",
    "            v += model[w] ## 単語が訓練済みモデルのvocabにあったら\n",
    "        except:\n",
    "            unused_words[w] += 1 ## ベクトルが存在しなかった単語をメモ\n",
    "    v = v / (np.sqrt(np.sum(v ** 2)) + 1e-16) ## 長さを1に正規化\n",
    "    return v    \n",
    "vecs = df[\"product_name\"].apply(lambda x : to_vec(x, model))\n",
    "vecs = np.vstack(vecs)\n",
    "fasttext_pretrain_cols = [f\"fasttext_pretrain_vec{k}\" for k in range(vecs.shape[1])]\n",
    "vec_df = pd.DataFrame(vecs, columns=fasttext_pretrain_cols)\n",
    "df = pd.concat([df, vec_df], axis = 1)"
   ]
  },
  {
   "cell_type": "code",
   "execution_count": 6,
   "metadata": {},
   "outputs": [],
   "source": [
    "target = \"department_id\" \n",
    "n_split = 5\n",
    "features = fasttext_pretrain_cols + [\"order_rate\", \"order_dow_mode\", \"order_hour_of_day_mode\"]"
   ]
  },
  {
   "cell_type": "code",
   "execution_count": 7,
   "metadata": {},
   "outputs": [],
   "source": [
    "train = df[~df[target].isna()]\n",
    "test = df[df[target].isna()]"
   ]
  },
  {
   "cell_type": "code",
   "execution_count": 8,
   "metadata": {},
   "outputs": [],
   "source": [
    "X = train.drop([target, 'product_name'], axis=1)\n",
    "y = train[target]"
   ]
  },
  {
   "cell_type": "code",
   "execution_count": 9,
   "metadata": {},
   "outputs": [],
   "source": [
    "def objective(trial):\n",
    "    train_x, valid_x, train_y, valid_y = train_test_split(X, y, test_size=0.25)\n",
    "    param = {\n",
    "        \"objective\": \"multiclass\",\n",
    "        \"num_class\":21,\n",
    "        \"metric\": \"multi_logloss\",\n",
    "        \"verbosity\": -1,\n",
    "        \"boosting_type\": \"gbdt\",\n",
    "        \"lambda_l1\": trial.suggest_loguniform(\"lambda_l1\", 1e-8, 10.0),\n",
    "        \"lambda_l2\": trial.suggest_loguniform(\"lambda_l2\", 1e-8, 10.0),\n",
    "        \"num_leaves\": trial.suggest_int(\"num_leaves\", 2, 256),\n",
    "        \"feature_fraction\": trial.suggest_uniform(\"feature_fraction\", 0.4, 1.0),\n",
    "        \"bagging_fraction\": trial.suggest_uniform(\"bagging_fraction\", 0.4, 1.0),\n",
    "        \"bagging_freq\": trial.suggest_int(\"bagging_freq\", 1, 7),\n",
    "        \"min_child_samples\": trial.suggest_int(\"min_child_samples\", 5, 100),\n",
    "    }\n",
    "    model = lgb.LGBMClassifier(**param)\n",
    "    model.fit(train_x, train_y, )\n",
    "    pred_val = model.predict_proba(valid_x)\n",
    "    ## evaluate\n",
    "    score = f1_score(valid_y, np.argmax(pred_val, axis = 1), average = \"micro\")\n",
    "    print(f'F1={score}')\n",
    "    return score"
   ]
  },
  {
   "cell_type": "code",
   "execution_count": 10,
   "metadata": {},
   "outputs": [
    {
     "name": "stdout",
     "output_type": "stream",
     "text": [
      "F1=0.7420705200450813\n"
     ]
    },
    {
     "name": "stderr",
     "output_type": "stream",
     "text": [
      "[I 2020-07-09 15:02:46,576] Finished trial#0 with value: 0.7420705200450813 with parameters: {'lambda_l1': 0.07915821496965882, 'lambda_l2': 1.0975514918158953e-08, 'num_leaves': 240, 'feature_fraction': 0.5035813049263763, 'bagging_fraction': 0.6178603117179465, 'bagging_freq': 5, 'min_child_samples': 34}. Best is trial#0 with value: 0.7420705200450813.\n"
     ]
    },
    {
     "name": "stdout",
     "output_type": "stream",
     "text": [
      "F1=0.745934632104331\n"
     ]
    },
    {
     "name": "stderr",
     "output_type": "stream",
     "text": [
      "[I 2020-07-09 15:04:37,252] Finished trial#1 with value: 0.745934632104331 with parameters: {'lambda_l1': 1.0841903571717806e-08, 'lambda_l2': 7.264300931817817e-06, 'num_leaves': 238, 'feature_fraction': 0.8876376963939318, 'bagging_fraction': 0.49943166784579035, 'bagging_freq': 2, 'min_child_samples': 80}. Best is trial#1 with value: 0.745934632104331.\n"
     ]
    },
    {
     "name": "stdout",
     "output_type": "stream",
     "text": [
      "F1=0.735952342617936\n"
     ]
    },
    {
     "name": "stderr",
     "output_type": "stream",
     "text": [
      "[I 2020-07-09 15:06:01,993] Finished trial#2 with value: 0.735952342617936 with parameters: {'lambda_l1': 0.00020663049389504687, 'lambda_l2': 4.7532497032744065e-08, 'num_leaves': 193, 'feature_fraction': 0.7097343414486678, 'bagging_fraction': 0.5182456958973045, 'bagging_freq': 5, 'min_child_samples': 72}. Best is trial#1 with value: 0.745934632104331.\n"
     ]
    },
    {
     "name": "stdout",
     "output_type": "stream",
     "text": [
      "F1=0.7559169215907261\n"
     ]
    },
    {
     "name": "stderr",
     "output_type": "stream",
     "text": [
      "[I 2020-07-09 15:09:21,917] Finished trial#3 with value: 0.7559169215907261 with parameters: {'lambda_l1': 2.248758544155522e-07, 'lambda_l2': 0.0005996659160877897, 'num_leaves': 209, 'feature_fraction': 0.9389558538261212, 'bagging_fraction': 0.9602611661883994, 'bagging_freq': 7, 'min_child_samples': 58}. Best is trial#3 with value: 0.7559169215907261.\n"
     ]
    },
    {
     "name": "stdout",
     "output_type": "stream",
     "text": [
      "F1=0.7440025760747062\n"
     ]
    },
    {
     "name": "stderr",
     "output_type": "stream",
     "text": [
      "[I 2020-07-09 15:10:47,328] Finished trial#4 with value: 0.7440025760747062 with parameters: {'lambda_l1': 0.007117921260561079, 'lambda_l2': 0.8450277030566158, 'num_leaves': 41, 'feature_fraction': 0.7502386909139083, 'bagging_fraction': 0.841032989703146, 'bagging_freq': 2, 'min_child_samples': 93}. Best is trial#3 with value: 0.7559169215907261.\n"
     ]
    },
    {
     "name": "stdout",
     "output_type": "stream",
     "text": [
      "F1=0.7328932539043632\n"
     ]
    },
    {
     "name": "stderr",
     "output_type": "stream",
     "text": [
      "[I 2020-07-09 15:11:13,715] Finished trial#5 with value: 0.7328932539043632 with parameters: {'lambda_l1': 1.4721977454937724e-05, 'lambda_l2': 1.0584886741282773e-08, 'num_leaves': 18, 'feature_fraction': 0.4012741725795307, 'bagging_fraction': 0.6937016199822874, 'bagging_freq': 5, 'min_child_samples': 80}. Best is trial#3 with value: 0.7559169215907261.\n"
     ]
    },
    {
     "name": "stdout",
     "output_type": "stream",
     "text": [
      "F1=0.7374013846401545\n"
     ]
    },
    {
     "name": "stderr",
     "output_type": "stream",
     "text": [
      "[I 2020-07-09 15:12:17,479] Finished trial#6 with value: 0.7374013846401545 with parameters: {'lambda_l1': 0.11129778364508124, 'lambda_l2': 7.159341586834962e-05, 'num_leaves': 101, 'feature_fraction': 0.4430574994457591, 'bagging_fraction': 0.8432268641145857, 'bagging_freq': 5, 'min_child_samples': 84}. Best is trial#3 with value: 0.7559169215907261.\n"
     ]
    },
    {
     "name": "stdout",
     "output_type": "stream",
     "text": [
      "F1=0.7443245854129771\n"
     ]
    },
    {
     "name": "stderr",
     "output_type": "stream",
     "text": [
      "[I 2020-07-09 15:14:39,660] Finished trial#7 with value: 0.7443245854129771 with parameters: {'lambda_l1': 7.627979857394969e-06, 'lambda_l2': 1.1961058596610368e-07, 'num_leaves': 91, 'feature_fraction': 0.8823783008292849, 'bagging_fraction': 0.9325612615525929, 'bagging_freq': 3, 'min_child_samples': 93}. Best is trial#3 with value: 0.7559169215907261.\n"
     ]
    },
    {
     "name": "stdout",
     "output_type": "stream",
     "text": [
      "F1=0.7349863146031235\n"
     ]
    },
    {
     "name": "stderr",
     "output_type": "stream",
     "text": [
      "[I 2020-07-09 15:16:29,722] Finished trial#8 with value: 0.7349863146031235 with parameters: {'lambda_l1': 3.469450011786666e-05, 'lambda_l2': 0.005980410298331026, 'num_leaves': 54, 'feature_fraction': 0.8938447846374882, 'bagging_fraction': 0.7606618570661277, 'bagging_freq': 6, 'min_child_samples': 59}. Best is trial#3 with value: 0.7559169215907261.\n"
     ]
    },
    {
     "name": "stdout",
     "output_type": "stream",
     "text": [
      "F1=0.745934632104331\n"
     ]
    },
    {
     "name": "stderr",
     "output_type": "stream",
     "text": [
      "[I 2020-07-09 15:18:23,104] Finished trial#9 with value: 0.745934632104331 with parameters: {'lambda_l1': 0.0003231478235613995, 'lambda_l2': 0.31554312040226234, 'num_leaves': 192, 'feature_fraction': 0.46277130131610633, 'bagging_fraction': 0.8308216158986872, 'bagging_freq': 3, 'min_child_samples': 25}. Best is trial#3 with value: 0.7559169215907261.\n"
     ]
    },
    {
     "name": "stdout",
     "output_type": "stream",
     "text": [
      "F1=0.704556432136532\n"
     ]
    },
    {
     "name": "stderr",
     "output_type": "stream",
     "text": [
      "[I 2020-07-09 15:24:32,195] Finished trial#10 with value: 0.704556432136532 with parameters: {'lambda_l1': 1.1029510005423846e-08, 'lambda_l2': 0.008030484676763008, 'num_leaves': 165, 'feature_fraction': 0.989316215826431, 'bagging_fraction': 0.9994489498928181, 'bagging_freq': 7, 'min_child_samples': 5}. Best is trial#3 with value: 0.7559169215907261.\n"
     ]
    },
    {
     "name": "stdout",
     "output_type": "stream",
     "text": [
      "F1=0.7512477861857995\n"
     ]
    },
    {
     "name": "stderr",
     "output_type": "stream",
     "text": [
      "[I 2020-07-09 15:26:41,289] Finished trial#11 with value: 0.7512477861857995 with parameters: {'lambda_l1': 1.0102955520845842e-08, 'lambda_l2': 1.4118520123300533e-05, 'num_leaves': 253, 'feature_fraction': 0.9887049588610992, 'bagging_fraction': 0.4228007617346482, 'bagging_freq': 1, 'min_child_samples': 56}. Best is trial#3 with value: 0.7559169215907261.\n"
     ]
    },
    {
     "name": "stdout",
     "output_type": "stream",
     "text": [
      "F1=0.7386894219932378\n"
     ]
    },
    {
     "name": "stderr",
     "output_type": "stream",
     "text": [
      "[I 2020-07-09 15:28:55,905] Finished trial#12 with value: 0.7386894219932378 with parameters: {'lambda_l1': 2.9488484422092403e-07, 'lambda_l2': 4.3021670005408185e-06, 'num_leaves': 247, 'feature_fraction': 0.9447424449881001, 'bagging_fraction': 0.41608578466777024, 'bagging_freq': 1, 'min_child_samples': 54}. Best is trial#3 with value: 0.7559169215907261.\n"
     ]
    },
    {
     "name": "stdout",
     "output_type": "stream",
     "text": [
      "F1=0.7399774593463211\n"
     ]
    },
    {
     "name": "stderr",
     "output_type": "stream",
     "text": [
      "[I 2020-07-09 15:30:41,900] Finished trial#13 with value: 0.7399774593463211 with parameters: {'lambda_l1': 2.3080524616465738e-07, 'lambda_l2': 0.0010817758181004865, 'num_leaves': 201, 'feature_fraction': 0.8031319521535076, 'bagging_fraction': 0.4266656714130612, 'bagging_freq': 7, 'min_child_samples': 41}. Best is trial#3 with value: 0.7559169215907261.\n"
     ]
    },
    {
     "name": "stdout",
     "output_type": "stream",
     "text": [
      "F1=0.7515697955240702\n"
     ]
    },
    {
     "name": "stderr",
     "output_type": "stream",
     "text": [
      "[I 2020-07-09 15:32:20,726] Finished trial#14 with value: 0.7515697955240702 with parameters: {'lambda_l1': 2.4910267352484007e-07, 'lambda_l2': 4.474037460771383e-05, 'num_leaves': 157, 'feature_fraction': 0.6059692081375543, 'bagging_fraction': 0.5987415988937863, 'bagging_freq': 1, 'min_child_samples': 67}. Best is trial#3 with value: 0.7559169215907261.\n"
     ]
    },
    {
     "name": "stdout",
     "output_type": "stream",
     "text": [
      "F1=0.7507647721783931\n"
     ]
    },
    {
     "name": "stderr",
     "output_type": "stream",
     "text": [
      "[I 2020-07-09 15:34:06,545] Finished trial#15 with value: 0.7507647721783931 with parameters: {'lambda_l1': 1.0225808325923772e-06, 'lambda_l2': 5.573731660251083e-07, 'num_leaves': 145, 'feature_fraction': 0.5880783523324584, 'bagging_fraction': 0.6101338015648964, 'bagging_freq': 4, 'min_child_samples': 72}. Best is trial#3 with value: 0.7559169215907261.\n"
     ]
    },
    {
     "name": "stdout",
     "output_type": "stream",
     "text": [
      "F1=0.7446465947512478\n"
     ]
    },
    {
     "name": "stderr",
     "output_type": "stream",
     "text": [
      "[I 2020-07-09 15:34:45,044] Finished trial#16 with value: 0.7446465947512478 with parameters: {'lambda_l1': 3.735040592414897, 'lambda_l2': 0.00036168779720436873, 'num_leaves': 121, 'feature_fraction': 0.6139424405218613, 'bagging_fraction': 0.6301251719672463, 'bagging_freq': 6, 'min_child_samples': 66}. Best is trial#3 with value: 0.7559169215907261.\n"
     ]
    },
    {
     "name": "stdout",
     "output_type": "stream",
     "text": [
      "F1=0.7420705200450813\n"
     ]
    },
    {
     "name": "stderr",
     "output_type": "stream",
     "text": [
      "[I 2020-07-09 15:37:12,858] Finished trial#17 with value: 0.7420705200450813 with parameters: {'lambda_l1': 2.2104192592197262e-07, 'lambda_l2': 0.04145074780419599, 'num_leaves': 161, 'feature_fraction': 0.6149300138831677, 'bagging_fraction': 0.9972580022425036, 'bagging_freq': 3, 'min_child_samples': 44}. Best is trial#3 with value: 0.7559169215907261.\n"
     ]
    },
    {
     "name": "stdout",
     "output_type": "stream",
     "text": [
      "F1=0.13025277733054258\n"
     ]
    },
    {
     "name": "stderr",
     "output_type": "stream",
     "text": [
      "[I 2020-07-09 15:39:28,165] Finished trial#18 with value: 0.13025277733054258 with parameters: {'lambda_l1': 2.3957104124820086e-06, 'lambda_l2': 8.773029651318482e-05, 'num_leaves': 206, 'feature_fraction': 0.542663737305112, 'bagging_fraction': 0.5361539812415093, 'bagging_freq': 2, 'min_child_samples': 19}. Best is trial#3 with value: 0.7559169215907261.\n"
     ]
    },
    {
     "name": "stdout",
     "output_type": "stream",
     "text": [
      "F1=0.757848977620351\n"
     ]
    },
    {
     "name": "stderr",
     "output_type": "stream",
     "text": [
      "[I 2020-07-09 15:42:25,407] Finished trial#19 with value: 0.757848977620351 with parameters: {'lambda_l1': 4.208436323659993e-08, 'lambda_l2': 1.2628561153466063e-06, 'num_leaves': 171, 'feature_fraction': 0.6672578367627333, 'bagging_fraction': 0.7402274407240765, 'bagging_freq': 4, 'min_child_samples': 47}. Best is trial#19 with value: 0.757848977620351.\n"
     ]
    },
    {
     "name": "stdout",
     "output_type": "stream",
     "text": [
      "F1=0.7440025760747062\n"
     ]
    },
    {
     "name": "stderr",
     "output_type": "stream",
     "text": [
      "[I 2020-07-09 15:46:29,802] Finished trial#20 with value: 0.7440025760747062 with parameters: {'lambda_l1': 6.97708353795781e-08, 'lambda_l2': 1.0275655570922785e-06, 'num_leaves': 222, 'feature_fraction': 0.7916354538266869, 'bagging_fraction': 0.9127781458240253, 'bagging_freq': 6, 'min_child_samples': 42}. Best is trial#19 with value: 0.757848977620351.\n"
     ]
    },
    {
     "name": "stdout",
     "output_type": "stream",
     "text": [
      "F1=0.7486717114796329\n"
     ]
    },
    {
     "name": "stderr",
     "output_type": "stream",
     "text": [
      "[I 2020-07-09 15:48:27,328] Finished trial#21 with value: 0.7486717114796329 with parameters: {'lambda_l1': 4.6495091840966484e-08, 'lambda_l2': 6.360595816813117e-05, 'num_leaves': 172, 'feature_fraction': 0.6609364626331928, 'bagging_fraction': 0.69358557471932, 'bagging_freq': 4, 'min_child_samples': 65}. Best is trial#19 with value: 0.757848977620351.\n"
     ]
    },
    {
     "name": "stdout",
     "output_type": "stream",
     "text": [
      "F1=0.7462566414426018\n"
     ]
    },
    {
     "name": "stderr",
     "output_type": "stream",
     "text": [
      "[I 2020-07-09 15:50:33,642] Finished trial#22 with value: 0.7462566414426018 with parameters: {'lambda_l1': 1.6930700582807946e-06, 'lambda_l2': 0.0018204738166733435, 'num_leaves': 132, 'feature_fraction': 0.6796725247805742, 'bagging_fraction': 0.752509976020421, 'bagging_freq': 1, 'min_child_samples': 50}. Best is trial#19 with value: 0.757848977620351.\n"
     ]
    },
    {
     "name": "stdout",
     "output_type": "stream",
     "text": [
      "F1=0.7488327161487685\n"
     ]
    },
    {
     "name": "stderr",
     "output_type": "stream",
     "text": [
      "[I 2020-07-09 15:52:34,042] Finished trial#23 with value: 0.7488327161487685 with parameters: {'lambda_l1': 3.9306218942436205e-08, 'lambda_l2': 7.858631548624589e-07, 'num_leaves': 185, 'feature_fraction': 0.5789984445322304, 'bagging_fraction': 0.5779051798298072, 'bagging_freq': 7, 'min_child_samples': 61}. Best is trial#19 with value: 0.757848977620351.\n"
     ]
    },
    {
     "name": "stdout",
     "output_type": "stream",
     "text": [
      "F1=0.7454516180969247\n"
     ]
    },
    {
     "name": "stderr",
     "output_type": "stream",
     "text": [
      "[I 2020-07-09 15:54:57,412] Finished trial#24 with value: 0.7454516180969247 with parameters: {'lambda_l1': 7.754400743121873e-05, 'lambda_l2': 1.3212171051482228e-05, 'num_leaves': 148, 'feature_fraction': 0.7273165537781658, 'bagging_fraction': 0.7500325308633015, 'bagging_freq': 4, 'min_child_samples': 48}. Best is trial#19 with value: 0.757848977620351.\n"
     ]
    },
    {
     "name": "stdout",
     "output_type": "stream",
     "text": [
      "F1=0.7451296087586541\n"
     ]
    },
    {
     "name": "stderr",
     "output_type": "stream",
     "text": [
      "[I 2020-07-09 15:57:32,990] Finished trial#25 with value: 0.7451296087586541 with parameters: {'lambda_l1': 1.115770282303237e-06, 'lambda_l2': 0.00022772295297836945, 'num_leaves': 219, 'feature_fraction': 0.6442380351589624, 'bagging_fraction': 0.662677907965226, 'bagging_freq': 3, 'min_child_samples': 33}. Best is trial#19 with value: 0.757848977620351.\n"
     ]
    },
    {
     "name": "stdout",
     "output_type": "stream",
     "text": [
      "F1=0.7428755433907583\n"
     ]
    },
    {
     "name": "stderr",
     "output_type": "stream",
     "text": [
      "[I 2020-07-09 15:58:28,178] Finished trial#26 with value: 0.7428755433907583 with parameters: {'lambda_l1': 7.243119973127027e-08, 'lambda_l2': 0.041383234848333866, 'num_leaves': 106, 'feature_fraction': 0.5370067934733325, 'bagging_fraction': 0.46881196760763033, 'bagging_freq': 6, 'min_child_samples': 72}. Best is trial#19 with value: 0.757848977620351.\n"
     ]
    },
    {
     "name": "stdout",
     "output_type": "stream",
     "text": [
      "F1=0.7444855900821123\n"
     ]
    },
    {
     "name": "stderr",
     "output_type": "stream",
     "text": [
      "[I 2020-07-09 16:00:47,444] Finished trial#27 with value: 0.7444855900821123 with parameters: {'lambda_l1': 0.0008840634811142613, 'lambda_l2': 1.8077585286821388e-07, 'num_leaves': 177, 'feature_fraction': 0.8020987879118745, 'bagging_fraction': 0.5590105119195492, 'bagging_freq': 2, 'min_child_samples': 35}. Best is trial#19 with value: 0.757848977620351.\n"
     ]
    },
    {
     "name": "stdout",
     "output_type": "stream",
     "text": [
      "F1=0.7457736274351956\n"
     ]
    },
    {
     "name": "stderr",
     "output_type": "stream",
     "text": [
      "[I 2020-07-09 16:03:10,453] Finished trial#28 with value: 0.7457736274351956 with parameters: {'lambda_l1': 8.52578687862152e-06, 'lambda_l2': 3.6064184278674906e-05, 'num_leaves': 222, 'feature_fraction': 0.7524544638919807, 'bagging_fraction': 0.789537061323276, 'bagging_freq': 4, 'min_child_samples': 65}. Best is trial#19 with value: 0.757848977620351.\n"
     ]
    },
    {
     "name": "stdout",
     "output_type": "stream",
     "text": [
      "F1=0.7419095153759458\n"
     ]
    },
    {
     "name": "stderr",
     "output_type": "stream",
     "text": [
      "[I 2020-07-09 16:05:46,169] Finished trial#29 with value: 0.7419095153759458 with parameters: {'lambda_l1': 4.000235667302612e-07, 'lambda_l2': 3.5883044228585058e-06, 'num_leaves': 153, 'feature_fraction': 0.5296150815335524, 'bagging_fraction': 0.929544583055858, 'bagging_freq': 5, 'min_child_samples': 32}. Best is trial#19 with value: 0.757848977620351.\n"
     ]
    },
    {
     "name": "stdout",
     "output_type": "stream",
     "text": [
      "F1=0.7420705200450813\n"
     ]
    },
    {
     "name": "stderr",
     "output_type": "stream",
     "text": [
      "[I 2020-07-09 16:06:59,140] Finished trial#30 with value: 0.7420705200450813 with parameters: {'lambda_l1': 1.9396105006443112e-08, 'lambda_l2': 0.00042108682122681917, 'num_leaves': 128, 'feature_fraction': 0.4853070145950553, 'bagging_fraction': 0.6346116795987004, 'bagging_freq': 7, 'min_child_samples': 100}. Best is trial#19 with value: 0.757848977620351.\n"
     ]
    },
    {
     "name": "stdout",
     "output_type": "stream",
     "text": [
      "F1=0.7446465947512478\n"
     ]
    },
    {
     "name": "stderr",
     "output_type": "stream",
     "text": [
      "[I 2020-07-09 16:09:16,505] Finished trial#31 with value: 0.7446465947512478 with parameters: {'lambda_l1': 1.0238622979789796e-08, 'lambda_l2': 1.7737031269883014e-05, 'num_leaves': 255, 'feature_fraction': 0.9734314799997678, 'bagging_fraction': 0.4539819657734301, 'bagging_freq': 1, 'min_child_samples': 54}. Best is trial#19 with value: 0.757848977620351.\n"
     ]
    },
    {
     "name": "stdout",
     "output_type": "stream",
     "text": [
      "F1=0.7377233939784253\n"
     ]
    },
    {
     "name": "stderr",
     "output_type": "stream",
     "text": [
      "[I 2020-07-09 16:12:14,210] Finished trial#32 with value: 0.7377233939784253 with parameters: {'lambda_l1': 1.0692089648163972e-08, 'lambda_l2': 2.1052793534777574e-06, 'num_leaves': 238, 'feature_fraction': 0.9319922890532342, 'bagging_fraction': 0.5834659925272073, 'bagging_freq': 1, 'min_child_samples': 57}. Best is trial#19 with value: 0.757848977620351.\n"
     ]
    },
    {
     "name": "stdout",
     "output_type": "stream",
     "text": [
      "F1=0.7435195620673001\n"
     ]
    },
    {
     "name": "stderr",
     "output_type": "stream",
     "text": [
      "[I 2020-07-09 16:15:05,942] Finished trial#33 with value: 0.7435195620673001 with parameters: {'lambda_l1': 1.0471134971368352e-07, 'lambda_l2': 9.890850358818862e-06, 'num_leaves': 210, 'feature_fraction': 0.9986022194167877, 'bagging_fraction': 0.5014653810523274, 'bagging_freq': 2, 'min_child_samples': 47}. Best is trial#19 with value: 0.757848977620351.\n"
     ]
    },
    {
     "name": "stdout",
     "output_type": "stream",
     "text": [
      "F1=0.7444855900821123\n"
     ]
    },
    {
     "name": "stderr",
     "output_type": "stream",
     "text": [
      "[I 2020-07-09 16:17:44,352] Finished trial#34 with value: 0.7444855900821123 with parameters: {'lambda_l1': 2.616393596287167e-08, 'lambda_l2': 0.00015444974296487403, 'num_leaves': 239, 'feature_fraction': 0.8545724447210624, 'bagging_fraction': 0.8913197187205829, 'bagging_freq': 1, 'min_child_samples': 76}. Best is trial#19 with value: 0.757848977620351.\n"
     ]
    },
    {
     "name": "stdout",
     "output_type": "stream",
     "text": [
      "F1=0.7380454033166962\n"
     ]
    },
    {
     "name": "stderr",
     "output_type": "stream",
     "text": [
      "[I 2020-07-09 16:19:14,741] Finished trial#35 with value: 0.7380454033166962 with parameters: {'lambda_l1': 3.839487733966123e-06, 'lambda_l2': 2.8579938176476183e-08, 'num_leaves': 182, 'feature_fraction': 0.7154833567434882, 'bagging_fraction': 0.40148835864709925, 'bagging_freq': 2, 'min_child_samples': 63}. Best is trial#19 with value: 0.757848977620351.\n"
     ]
    },
    {
     "name": "stdout",
     "output_type": "stream",
     "text": [
      "F1=0.7536628562228304\n"
     ]
    },
    {
     "name": "stderr",
     "output_type": "stream",
     "text": [
      "[I 2020-07-09 16:21:34,999] Finished trial#36 with value: 0.7536628562228304 with parameters: {'lambda_l1': 7.137862776035844e-07, 'lambda_l2': 3.071029860498368e-05, 'num_leaves': 225, 'feature_fraction': 0.6868187465183142, 'bagging_fraction': 0.9750174961759797, 'bagging_freq': 1, 'min_child_samples': 83}. Best is trial#19 with value: 0.757848977620351.\n"
     ]
    },
    {
     "name": "stdout",
     "output_type": "stream",
     "text": [
      "F1=0.7378843986475607\n"
     ]
    },
    {
     "name": "stderr",
     "output_type": "stream",
     "text": [
      "[I 2020-07-09 16:23:33,002] Finished trial#37 with value: 0.7378843986475607 with parameters: {'lambda_l1': 2.720225137577513e-05, 'lambda_l2': 0.0028154239092752506, 'num_leaves': 193, 'feature_fraction': 0.6893964329454829, 'bagging_fraction': 0.9582677876107145, 'bagging_freq': 2, 'min_child_samples': 88}. Best is trial#19 with value: 0.757848977620351.\n"
     ]
    },
    {
     "name": "stdout",
     "output_type": "stream",
     "text": [
      "F1=0.7489937208179037\n"
     ]
    },
    {
     "name": "stderr",
     "output_type": "stream",
     "text": [
      "[I 2020-07-09 16:25:21,842] Finished trial#38 with value: 0.7489937208179037 with parameters: {'lambda_l1': 4.918002789856102e-07, 'lambda_l2': 0.0009181479988800881, 'num_leaves': 226, 'feature_fraction': 0.6343802591536801, 'bagging_fraction': 0.8709275058074841, 'bagging_freq': 3, 'min_child_samples': 81}. Best is trial#19 with value: 0.757848977620351.\n"
     ]
    },
    {
     "name": "stdout",
     "output_type": "stream",
     "text": [
      "F1=0.740782482691998\n"
     ]
    },
    {
     "name": "stderr",
     "output_type": "stream",
     "text": [
      "[I 2020-07-09 16:27:23,970] Finished trial#39 with value: 0.740782482691998 with parameters: {'lambda_l1': 0.004149579411864285, 'lambda_l2': 1.465337182758112e-07, 'num_leaves': 77, 'feature_fraction': 0.763278905482538, 'bagging_fraction': 0.9792825284737833, 'bagging_freq': 5, 'min_child_samples': 89}. Best is trial#19 with value: 0.757848977620351.\n"
     ]
    },
    {
     "name": "stdout",
     "output_type": "stream",
     "text": [
      "F1=0.7486717114796329\n"
     ]
    },
    {
     "name": "stderr",
     "output_type": "stream",
     "text": [
      "[I 2020-07-09 16:28:58,692] Finished trial#40 with value: 0.7486717114796329 with parameters: {'lambda_l1': 4.150832520427085e-06, 'lambda_l2': 4.769587348305654e-05, 'num_leaves': 161, 'feature_fraction': 0.5784999358324323, 'bagging_fraction': 0.8080313304188276, 'bagging_freq': 2, 'min_child_samples': 99}. Best is trial#19 with value: 0.757848977620351.\n"
     ]
    },
    {
     "name": "stdout",
     "output_type": "stream",
     "text": [
      "F1=0.7541458702302367\n"
     ]
    },
    {
     "name": "stderr",
     "output_type": "stream",
     "text": [
      "[I 2020-07-09 16:31:32,664] Finished trial#41 with value: 0.7541458702302367 with parameters: {'lambda_l1': 1.3956814374757176e-07, 'lambda_l2': 2.1183875277519446e-05, 'num_leaves': 255, 'feature_fraction': 0.6796959503774831, 'bagging_fraction': 0.9526533199619309, 'bagging_freq': 1, 'min_child_samples': 69}. Best is trial#19 with value: 0.757848977620351.\n"
     ]
    },
    {
     "name": "stdout",
     "output_type": "stream",
     "text": [
      "F1=0.7493157301561745\n"
     ]
    },
    {
     "name": "stderr",
     "output_type": "stream",
     "text": [
      "[I 2020-07-09 16:34:06,158] Finished trial#42 with value: 0.7493157301561745 with parameters: {'lambda_l1': 1.6537350146626662e-07, 'lambda_l2': 2.7534653467519114e-05, 'num_leaves': 233, 'feature_fraction': 0.6934657758610439, 'bagging_fraction': 0.95819653045476, 'bagging_freq': 1, 'min_child_samples': 71}. Best is trial#19 with value: 0.757848977620351.\n"
     ]
    },
    {
     "name": "stdout",
     "output_type": "stream",
     "text": [
      "F1=0.751086781516664\n"
     ]
    },
    {
     "name": "stderr",
     "output_type": "stream",
     "text": [
      "[I 2020-07-09 16:36:29,129] Finished trial#43 with value: 0.751086781516664 with parameters: {'lambda_l1': 5.6943095690729e-07, 'lambda_l2': 6.539375764174817e-06, 'num_leaves': 205, 'feature_fraction': 0.6728613317190802, 'bagging_fraction': 0.8727808089999528, 'bagging_freq': 1, 'min_child_samples': 76}. Best is trial#19 with value: 0.757848977620351.\n"
     ]
    },
    {
     "name": "stdout",
     "output_type": "stream",
     "text": [
      "F1=0.7357913379488005\n"
     ]
    },
    {
     "name": "stderr",
     "output_type": "stream",
     "text": [
      "[I 2020-07-09 16:38:02,528] Finished trial#44 with value: 0.7357913379488005 with parameters: {'lambda_l1': 1.575924454378297e-07, 'lambda_l2': 6.255113090116254, 'num_leaves': 194, 'feature_fraction': 0.7167349721220629, 'bagging_fraction': 0.9793722366201411, 'bagging_freq': 1, 'min_child_samples': 82}. Best is trial#19 with value: 0.757848977620351.\n"
     ]
    },
    {
     "name": "stdout",
     "output_type": "stream",
     "text": [
      "F1=0.5433907583319916\n"
     ]
    },
    {
     "name": "stderr",
     "output_type": "stream",
     "text": [
      "[I 2020-07-09 16:40:18,539] Finished trial#45 with value: 0.5433907583319916 with parameters: {'lambda_l1': 1.0174045954545467e-06, 'lambda_l2': 1.7558553102169534e-06, 'num_leaves': 255, 'feature_fraction': 0.6481718577261596, 'bagging_fraction': 0.7150814992703262, 'bagging_freq': 1, 'min_child_samples': 69}. Best is trial#19 with value: 0.757848977620351.\n"
     ]
    },
    {
     "name": "stdout",
     "output_type": "stream",
     "text": [
      "F1=0.7417485107068105\n"
     ]
    },
    {
     "name": "stderr",
     "output_type": "stream",
     "text": [
      "[I 2020-07-09 16:43:04,387] Finished trial#46 with value: 0.7417485107068105 with parameters: {'lambda_l1': 2.5402182910374183e-08, 'lambda_l2': 3.274082408817364e-07, 'num_leaves': 211, 'feature_fraction': 0.6158487403065284, 'bagging_fraction': 0.9493654714639851, 'bagging_freq': 3, 'min_child_samples': 77}. Best is trial#19 with value: 0.757848977620351.\n"
     ]
    },
    {
     "name": "stdout",
     "output_type": "stream",
     "text": [
      "F1=0.5694735147319272\n"
     ]
    },
    {
     "name": "stderr",
     "output_type": "stream",
     "text": [
      "[I 2020-07-09 16:43:14,107] Finished trial#47 with value: 0.5694735147319272 with parameters: {'lambda_l1': 1.0201548765531054e-05, 'lambda_l2': 0.00011863175632263349, 'num_leaves': 2, 'feature_fraction': 0.7350990121681092, 'bagging_fraction': 0.9087844846819879, 'bagging_freq': 2, 'min_child_samples': 58}. Best is trial#19 with value: 0.757848977620351.\n"
     ]
    },
    {
     "name": "stdout",
     "output_type": "stream",
     "text": [
      "F1=0.7488327161487685\n"
     ]
    },
    {
     "name": "stderr",
     "output_type": "stream",
     "text": [
      "[I 2020-07-09 16:45:00,418] Finished trial#48 with value: 0.7488327161487685 with parameters: {'lambda_l1': 6.255725480338412e-07, 'lambda_l2': 0.0006482170883838233, 'num_leaves': 245, 'feature_fraction': 0.8413735751619921, 'bagging_fraction': 0.6651389462854131, 'bagging_freq': 6, 'min_child_samples': 85}. Best is trial#19 with value: 0.757848977620351.\n"
     ]
    },
    {
     "name": "stdout",
     "output_type": "stream",
     "text": [
      "F1=0.7312832072130092\n"
     ]
    },
    {
     "name": "stderr",
     "output_type": "stream",
     "text": [
      "[I 2020-07-09 16:45:41,654] Finished trial#49 with value: 0.7312832072130092 with parameters: {'lambda_l1': 6.902911344888768, 'lambda_l2': 0.009873212511073112, 'num_leaves': 139, 'feature_fraction': 0.6032791809779655, 'bagging_fraction': 0.9995132050667977, 'bagging_freq': 2, 'min_child_samples': 94}. Best is trial#19 with value: 0.757848977620351.\n"
     ]
    },
    {
     "name": "stdout",
     "output_type": "stream",
     "text": [
      "F1=0.7572049589438093\n"
     ]
    },
    {
     "name": "stderr",
     "output_type": "stream",
     "text": [
      "[I 2020-07-09 16:47:34,245] Finished trial#50 with value: 0.7572049589438093 with parameters: {'lambda_l1': 0.1658446496003046, 'lambda_l2': 6.437669718716136e-06, 'num_leaves': 172, 'feature_fraction': 0.7698341980380619, 'bagging_fraction': 0.8431969181312063, 'bagging_freq': 5, 'min_child_samples': 52}. Best is trial#19 with value: 0.757848977620351.\n"
     ]
    },
    {
     "name": "stdout",
     "output_type": "stream",
     "text": [
      "F1=0.746739655450008\n"
     ]
    },
    {
     "name": "stderr",
     "output_type": "stream",
     "text": [
      "[I 2020-07-09 16:49:10,548] Finished trial#51 with value: 0.746739655450008 with parameters: {'lambda_l1': 0.6603953364946329, 'lambda_l2': 1.6960189645460448e-06, 'num_leaves': 165, 'feature_fraction': 0.7765948176998986, 'bagging_fraction': 0.808631851565407, 'bagging_freq': 5, 'min_child_samples': 38}. Best is trial#19 with value: 0.757848977620351.\n"
     ]
    },
    {
     "name": "stdout",
     "output_type": "stream",
     "text": [
      "F1=0.7520528095314765\n"
     ]
    },
    {
     "name": "stderr",
     "output_type": "stream",
     "text": [
      "[I 2020-07-09 16:51:00,875] Finished trial#52 with value: 0.7520528095314765 with parameters: {'lambda_l1': 0.07533860707876242, 'lambda_l2': 5.842144289067294e-06, 'num_leaves': 173, 'feature_fraction': 0.6645447859485398, 'bagging_fraction': 0.8483822324218159, 'bagging_freq': 5, 'min_child_samples': 53}. Best is trial#19 with value: 0.757848977620351.\n"
     ]
    },
    {
     "name": "stdout",
     "output_type": "stream",
     "text": [
      "F1=0.7477056834648205\n"
     ]
    },
    {
     "name": "stderr",
     "output_type": "stream",
     "text": [
      "[I 2020-07-09 16:53:02,136] Finished trial#53 with value: 0.7477056834648205 with parameters: {'lambda_l1': 0.040087211237498165, 'lambda_l2': 3.041004138565198e-06, 'num_leaves': 175, 'feature_fraction': 0.6986374760411389, 'bagging_fraction': 0.8399155742769255, 'bagging_freq': 5, 'min_child_samples': 52}. Best is trial#19 with value: 0.757848977620351.\n"
     ]
    },
    {
     "name": "stdout",
     "output_type": "stream",
     "text": [
      "F1=0.7481886974722267\n"
     ]
    },
    {
     "name": "stderr",
     "output_type": "stream",
     "text": [
      "[I 2020-07-09 16:54:31,851] Finished trial#54 with value: 0.7481886974722267 with parameters: {'lambda_l1': 0.4505240724192096, 'lambda_l2': 7.376096603563005e-06, 'num_leaves': 198, 'feature_fraction': 0.6641255818995485, 'bagging_fraction': 0.865181792259614, 'bagging_freq': 4, 'min_child_samples': 45}. Best is trial#19 with value: 0.757848977620351.\n"
     ]
    },
    {
     "name": "stdout",
     "output_type": "stream",
     "text": [
      "F1=0.7588150056351635\n"
     ]
    },
    {
     "name": "stderr",
     "output_type": "stream",
     "text": [
      "[I 2020-07-09 16:56:32,411] Finished trial#55 with value: 0.7588150056351635 with parameters: {'lambda_l1': 0.05757233864212971, 'lambda_l2': 4.644528267572721e-08, 'num_leaves': 185, 'feature_fraction': 0.8432452014952949, 'bagging_fraction': 0.7795604743183974, 'bagging_freq': 6, 'min_child_samples': 61}. Best is trial#55 with value: 0.7588150056351635.\n"
     ]
    },
    {
     "name": "stdout",
     "output_type": "stream",
     "text": [
      "F1=0.746739655450008\n"
     ]
    },
    {
     "name": "stderr",
     "output_type": "stream",
     "text": [
      "[I 2020-07-09 16:57:56,365] Finished trial#56 with value: 0.746739655450008 with parameters: {'lambda_l1': 0.791961875170906, 'lambda_l2': 3.9562655169292625e-08, 'num_leaves': 188, 'feature_fraction': 0.9018214179075955, 'bagging_fraction': 0.7287310286728909, 'bagging_freq': 6, 'min_child_samples': 62}. Best is trial#55 with value: 0.7588150056351635.\n"
     ]
    },
    {
     "name": "stdout",
     "output_type": "stream",
     "text": [
      "F1=0.7444855900821123\n"
     ]
    },
    {
     "name": "stderr",
     "output_type": "stream",
     "text": [
      "[I 2020-07-09 17:00:06,357] Finished trial#57 with value: 0.7444855900821123 with parameters: {'lambda_l1': 0.01777793118663138, 'lambda_l2': 1.127061479133654e-08, 'num_leaves': 231, 'feature_fraction': 0.8276688325651899, 'bagging_fraction': 0.7844713196949763, 'bagging_freq': 7, 'min_child_samples': 59}. Best is trial#55 with value: 0.7588150056351635.\n"
     ]
    },
    {
     "name": "stdout",
     "output_type": "stream",
     "text": [
      "F1=0.7436805667364353\n"
     ]
    },
    {
     "name": "stderr",
     "output_type": "stream",
     "text": [
      "[I 2020-07-09 17:02:39,423] Finished trial#58 with value: 0.7436805667364353 with parameters: {'lambda_l1': 0.0038602610291567268, 'lambda_l2': 3.8322876577770107e-07, 'num_leaves': 213, 'feature_fraction': 0.8674784549612612, 'bagging_fraction': 0.7728828405532391, 'bagging_freq': 6, 'min_child_samples': 50}. Best is trial#55 with value: 0.7588150056351635.\n"
     ]
    },
    {
     "name": "stdout",
     "output_type": "stream",
     "text": [
      "F1=0.7438415714055708\n"
     ]
    },
    {
     "name": "stderr",
     "output_type": "stream",
     "text": [
      "[I 2020-07-09 17:05:13,092] Finished trial#59 with value: 0.7438415714055708 with parameters: {'lambda_l1': 0.21972246113377747, 'lambda_l2': 6.838485121457854e-08, 'num_leaves': 216, 'feature_fraction': 0.9119246593661936, 'bagging_fraction': 0.9175203557500639, 'bagging_freq': 7, 'min_child_samples': 28}. Best is trial#55 with value: 0.7588150056351635.\n"
     ]
    },
    {
     "name": "stdout",
     "output_type": "stream",
     "text": [
      "F1=0.7465786507808726\n"
     ]
    },
    {
     "name": "stderr",
     "output_type": "stream",
     "text": [
      "[I 2020-07-09 17:06:11,243] Finished trial#60 with value: 0.7465786507808726 with parameters: {'lambda_l1': 2.2298981193714753, 'lambda_l2': 2.5803086964667228e-05, 'num_leaves': 202, 'feature_fraction': 0.7763897200021781, 'bagging_fraction': 0.727229787756671, 'bagging_freq': 6, 'min_child_samples': 68}. Best is trial#55 with value: 0.7588150056351635.\n"
     ]
    },
    {
     "name": "stdout",
     "output_type": "stream",
     "text": [
      "F1=0.7547898889067783\n"
     ]
    },
    {
     "name": "stderr",
     "output_type": "stream",
     "text": [
      "[I 2020-07-09 17:08:08,724] Finished trial#61 with value: 0.7547898889067783 with parameters: {'lambda_l1': 0.08278841597091602, 'lambda_l2': 4.741010983319667e-06, 'num_leaves': 169, 'feature_fraction': 0.7421057146168334, 'bagging_fraction': 0.8468494614334168, 'bagging_freq': 5, 'min_child_samples': 54}. Best is trial#55 with value: 0.7588150056351635.\n"
     ]
    },
    {
     "name": "stdout",
     "output_type": "stream",
     "text": [
      "F1=0.7454516180969247\n"
     ]
    },
    {
     "name": "stderr",
     "output_type": "stream",
     "text": [
      "[I 2020-07-09 17:10:25,328] Finished trial#62 with value: 0.7454516180969247 with parameters: {'lambda_l1': 0.01764087800253378, 'lambda_l2': 9.25622011428911e-07, 'num_leaves': 179, 'feature_fraction': 0.8155494300730773, 'bagging_fraction': 0.8046161986374291, 'bagging_freq': 5, 'min_child_samples': 55}. Best is trial#55 with value: 0.7588150056351635.\n"
     ]
    },
    {
     "name": "stdout",
     "output_type": "stream",
     "text": [
      "F1=0.7552729029141845\n"
     ]
    },
    {
     "name": "stderr",
     "output_type": "stream",
     "text": [
      "[I 2020-07-09 17:12:26,624] Finished trial#63 with value: 0.7552729029141845 with parameters: {'lambda_l1': 0.16465190641969327, 'lambda_l2': 6.915517107431004e-05, 'num_leaves': 151, 'feature_fraction': 0.7401064243969719, 'bagging_fraction': 0.8908517519652503, 'bagging_freq': 4, 'min_child_samples': 42}. Best is trial#55 with value: 0.7588150056351635.\n"
     ]
    },
    {
     "name": "stdout",
     "output_type": "stream",
     "text": [
      "F1=0.7436805667364353\n"
     ]
    },
    {
     "name": "stderr",
     "output_type": "stream",
     "text": [
      "[I 2020-07-09 17:14:18,720] Finished trial#64 with value: 0.7436805667364353 with parameters: {'lambda_l1': 0.21258865649676664, 'lambda_l2': 0.0002609903463443607, 'num_leaves': 143, 'feature_fraction': 0.7399483309631085, 'bagging_fraction': 0.8241967636566304, 'bagging_freq': 4, 'min_child_samples': 41}. Best is trial#55 with value: 0.7588150056351635.\n"
     ]
    },
    {
     "name": "stdout",
     "output_type": "stream",
     "text": [
      "F1=0.75543390758332\n"
     ]
    },
    {
     "name": "stderr",
     "output_type": "stream",
     "text": [
      "[I 2020-07-09 17:16:30,626] Finished trial#65 with value: 0.75543390758332 with parameters: {'lambda_l1': 0.07523729789569991, 'lambda_l2': 8.989140494011631e-05, 'num_leaves': 152, 'feature_fraction': 0.7548133594885581, 'bagging_fraction': 0.8904296040372461, 'bagging_freq': 4, 'min_child_samples': 46}. Best is trial#55 with value: 0.7588150056351635.\n"
     ]
    },
    {
     "name": "stdout",
     "output_type": "stream",
     "text": [
      "F1=0.7398164546771857\n"
     ]
    },
    {
     "name": "stderr",
     "output_type": "stream",
     "text": [
      "[I 2020-07-09 17:19:00,346] Finished trial#66 with value: 0.7398164546771857 with parameters: {'lambda_l1': 0.05731186645475204, 'lambda_l2': 0.00013533733158742535, 'num_leaves': 154, 'feature_fraction': 0.7871309483650103, 'bagging_fraction': 0.8802945413196713, 'bagging_freq': 4, 'min_child_samples': 37}. Best is trial#55 with value: 0.7588150056351635.\n"
     ]
    },
    {
     "name": "stdout",
     "output_type": "stream",
     "text": [
      "F1=0.7496377394944452\n"
     ]
    },
    {
     "name": "stderr",
     "output_type": "stream",
     "text": [
      "[I 2020-07-09 17:20:58,045] Finished trial#67 with value: 0.7496377394944452 with parameters: {'lambda_l1': 0.14614410252707755, 'lambda_l2': 7.766360519565104e-05, 'num_leaves': 121, 'feature_fraction': 0.7627423407474501, 'bagging_fraction': 0.8520347181096523, 'bagging_freq': 4, 'min_child_samples': 47}. Best is trial#55 with value: 0.7588150056351635.\n"
     ]
    },
    {
     "name": "stdout",
     "output_type": "stream",
     "text": [
      "F1=0.7497987441635807\n"
     ]
    },
    {
     "name": "stderr",
     "output_type": "stream",
     "text": [
      "[I 2020-07-09 17:23:55,324] Finished trial#68 with value: 0.7497987441635807 with parameters: {'lambda_l1': 0.02294571936681142, 'lambda_l2': 0.002262285871047524, 'num_leaves': 167, 'feature_fraction': 0.9691363940762558, 'bagging_fraction': 0.9079538703526798, 'bagging_freq': 3, 'min_child_samples': 49}. Best is trial#55 with value: 0.7588150056351635.\n"
     ]
    },
    {
     "name": "stdout",
     "output_type": "stream",
     "text": [
      "F1=0.7372403799710192\n"
     ]
    },
    {
     "name": "stderr",
     "output_type": "stream",
     "text": [
      "[I 2020-07-09 17:25:17,315] Finished trial#69 with value: 0.7372403799710192 with parameters: {'lambda_l1': 2.115288340906607, 'lambda_l2': 0.0005037587689080374, 'num_leaves': 136, 'feature_fraction': 0.8792821119245794, 'bagging_fraction': 0.8863058839760698, 'bagging_freq': 5, 'min_child_samples': 45}. Best is trial#55 with value: 0.7588150056351635.\n"
     ]
    },
    {
     "name": "stdout",
     "output_type": "stream",
     "text": [
      "F1=0.7480276928030913\n"
     ]
    },
    {
     "name": "stderr",
     "output_type": "stream",
     "text": [
      "[I 2020-07-09 17:27:32,202] Finished trial#70 with value: 0.7480276928030913 with parameters: {'lambda_l1': 0.006212005091067635, 'lambda_l2': 0.00022414796212340293, 'num_leaves': 149, 'feature_fraction': 0.7453272957709277, 'bagging_fraction': 0.821609942847502, 'bagging_freq': 4, 'min_child_samples': 60}. Best is trial#55 with value: 0.7588150056351635.\n"
     ]
    },
    {
     "name": "stdout",
     "output_type": "stream",
     "text": [
      "F1=0.7431975527290291\n"
     ]
    },
    {
     "name": "stderr",
     "output_type": "stream",
     "text": [
      "[I 2020-07-09 17:29:08,761] Finished trial#71 with value: 0.7431975527290291 with parameters: {'lambda_l1': 0.2812422653258252, 'lambda_l2': 1.2800972709832712e-05, 'num_leaves': 167, 'feature_fraction': 0.7103853723762499, 'bagging_fraction': 0.7560612433767402, 'bagging_freq': 5, 'min_child_samples': 43}. Best is trial#55 with value: 0.7588150056351635.\n"
     ]
    },
    {
     "name": "stdout",
     "output_type": "stream",
     "text": [
      "F1=0.7547898889067783\n"
     ]
    },
    {
     "name": "stderr",
     "output_type": "stream",
     "text": [
      "[I 2020-07-09 17:31:28,706] Finished trial#72 with value: 0.7547898889067783 with parameters: {'lambda_l1': 0.0353374716733798, 'lambda_l2': 2.0185969062205434e-05, 'num_leaves': 156, 'feature_fraction': 0.8117671255978295, 'bagging_fraction': 0.9008567406974128, 'bagging_freq': 4, 'min_child_samples': 57}. Best is trial#55 with value: 0.7588150056351635.\n"
     ]
    },
    {
     "name": "stdout",
     "output_type": "stream",
     "text": [
      "F1=0.7444855900821123\n"
     ]
    },
    {
     "name": "stderr",
     "output_type": "stream",
     "text": [
      "[I 2020-07-09 17:34:11,865] Finished trial#73 with value: 0.7444855900821123 with parameters: {'lambda_l1': 0.0011688087742131525, 'lambda_l2': 5.912512577798917e-05, 'num_leaves': 126, 'feature_fraction': 0.8250932791431961, 'bagging_fraction': 0.8997703695742522, 'bagging_freq': 4, 'min_child_samples': 51}. Best is trial#55 with value: 0.7588150056351635.\n"
     ]
    },
    {
     "name": "stdout",
     "output_type": "stream",
     "text": [
      "F1=0.74947673482531\n"
     ]
    },
    {
     "name": "stderr",
     "output_type": "stream",
     "text": [
      "[I 2020-07-09 17:36:43,489] Finished trial#74 with value: 0.74947673482531 with parameters: {'lambda_l1': 0.11132594791104652, 'lambda_l2': 4.8461932781051835e-06, 'num_leaves': 156, 'feature_fraction': 0.8052062949716448, 'bagging_fraction': 0.9331751978135966, 'bagging_freq': 3, 'min_child_samples': 40}. Best is trial#55 with value: 0.7588150056351635.\n"
     ]
    },
    {
     "name": "stdout",
     "output_type": "stream",
     "text": [
      "F1=0.7506037675092576\n"
     ]
    },
    {
     "name": "stderr",
     "output_type": "stream",
     "text": [
      "[I 2020-07-09 17:38:51,685] Finished trial#75 with value: 0.7506037675092576 with parameters: {'lambda_l1': 0.025731242825157496, 'lambda_l2': 1.2678284768000538e-05, 'num_leaves': 110, 'feature_fraction': 0.7615891885011893, 'bagging_fraction': 0.8529368699521533, 'bagging_freq': 4, 'min_child_samples': 56}. Best is trial#55 with value: 0.7588150056351635.\n"
     ]
    },
    {
     "name": "stdout",
     "output_type": "stream",
     "text": [
      "F1=0.7457736274351956\n"
     ]
    },
    {
     "name": "stderr",
     "output_type": "stream",
     "text": [
      "[I 2020-07-09 17:41:02,565] Finished trial#76 with value: 0.7457736274351956 with parameters: {'lambda_l1': 0.050393506495154845, 'lambda_l2': 3.5072615957629145e-06, 'num_leaves': 184, 'feature_fraction': 0.726694688012019, 'bagging_fraction': 0.928349326342406, 'bagging_freq': 4, 'min_child_samples': 54}. Best is trial#55 with value: 0.7588150056351635.\n"
     ]
    },
    {
     "name": "stdout",
     "output_type": "stream",
     "text": [
      "F1=0.7443245854129771\n"
     ]
    },
    {
     "name": "stderr",
     "output_type": "stream",
     "text": [
      "[I 2020-07-09 17:42:17,533] Finished trial#77 with value: 0.7443245854129771 with parameters: {'lambda_l1': 1.1461460626168807, 'lambda_l2': 9.41274350778833e-05, 'num_leaves': 160, 'feature_fraction': 0.7841813947240053, 'bagging_fraction': 0.8323515877990952, 'bagging_freq': 5, 'min_child_samples': 64}. Best is trial#55 with value: 0.7588150056351635.\n"
     ]
    },
    {
     "name": "stdout",
     "output_type": "stream",
     "text": [
      "F1=0.7491547254870391\n"
     ]
    },
    {
     "name": "stderr",
     "output_type": "stream",
     "text": [
      "[I 2020-07-09 17:44:51,522] Finished trial#78 with value: 0.7491547254870391 with parameters: {'lambda_l1': 0.008456938539860548, 'lambda_l2': 1.457107586733137e-06, 'num_leaves': 172, 'feature_fraction': 0.8467585046609126, 'bagging_fraction': 0.7890650200222638, 'bagging_freq': 4, 'min_child_samples': 46}. Best is trial#55 with value: 0.7588150056351635.\n"
     ]
    },
    {
     "name": "stdout",
     "output_type": "stream",
     "text": [
      "F1=0.746739655450008\n"
     ]
    },
    {
     "name": "stderr",
     "output_type": "stream",
     "text": [
      "[I 2020-07-09 17:47:01,016] Finished trial#79 with value: 0.746739655450008 with parameters: {'lambda_l1': 0.3449825588641221, 'lambda_l2': 0.0011990816250303155, 'num_leaves': 148, 'feature_fraction': 0.8010749127403478, 'bagging_fraction': 0.8881057348937329, 'bagging_freq': 6, 'min_child_samples': 30}. Best is trial#55 with value: 0.7588150056351635.\n"
     ]
    },
    {
     "name": "stdout",
     "output_type": "stream",
     "text": [
      "F1=0.7446465947512478\n"
     ]
    },
    {
     "name": "stderr",
     "output_type": "stream",
     "text": [
      "[I 2020-07-09 17:48:51,080] Finished trial#80 with value: 0.7446465947512478 with parameters: {'lambda_l1': 0.14337811508654796, 'lambda_l2': 1.498116523411012e-08, 'num_leaves': 189, 'feature_fraction': 0.759154249816781, 'bagging_fraction': 0.8581890069368379, 'bagging_freq': 5, 'min_child_samples': 57}. Best is trial#55 with value: 0.7588150056351635.\n"
     ]
    },
    {
     "name": "stdout",
     "output_type": "stream",
     "text": [
      "F1=0.7488327161487685\n"
     ]
    },
    {
     "name": "stderr",
     "output_type": "stream",
     "text": [
      "[I 2020-07-09 17:51:11,915] Finished trial#81 with value: 0.7488327161487685 with parameters: {'lambda_l1': 0.009977267503058967, 'lambda_l2': 2.0174597885907308e-05, 'num_leaves': 179, 'feature_fraction': 0.7290488324322288, 'bagging_fraction': 0.9477644277205838, 'bagging_freq': 3, 'min_child_samples': 60}. Best is trial#55 with value: 0.7588150056351635.\n"
     ]
    },
    {
     "name": "stdout",
     "output_type": "stream",
     "text": [
      "F1=0.7541458702302367\n"
     ]
    },
    {
     "name": "stderr",
     "output_type": "stream",
     "text": [
      "[I 2020-07-09 17:53:15,736] Finished trial#82 with value: 0.7541458702302367 with parameters: {'lambda_l1': 0.08736505098610269, 'lambda_l2': 4.820174599834946e-05, 'num_leaves': 135, 'feature_fraction': 0.7048855060009556, 'bagging_fraction': 0.9395966908040303, 'bagging_freq': 4, 'min_child_samples': 49}. Best is trial#55 with value: 0.7588150056351635.\n"
     ]
    },
    {
     "name": "stdout",
     "output_type": "stream",
     "text": [
      "F1=0.7436805667364353\n"
     ]
    },
    {
     "name": "stderr",
     "output_type": "stream",
     "text": [
      "[I 2020-07-09 17:55:40,811] Finished trial#83 with value: 0.7436805667364353 with parameters: {'lambda_l1': 0.00018053778843313097, 'lambda_l2': 9.116254111874242e-06, 'num_leaves': 142, 'feature_fraction': 0.7441212376574473, 'bagging_fraction': 0.9187678343720183, 'bagging_freq': 5, 'min_child_samples': 62}. Best is trial#55 with value: 0.7588150056351635.\n"
     ]
    },
    {
     "name": "stdout",
     "output_type": "stream",
     "text": [
      "F1=0.7485107068104975\n"
     ]
    },
    {
     "name": "stderr",
     "output_type": "stream",
     "text": [
      "[I 2020-07-09 17:57:34,737] Finished trial#84 with value: 0.7485107068104975 with parameters: {'lambda_l1': 0.001988532471886908, 'lambda_l2': 3.447632060826785e-05, 'num_leaves': 165, 'feature_fraction': 0.635349653867477, 'bagging_fraction': 0.6875677874257301, 'bagging_freq': 7, 'min_child_samples': 53}. Best is trial#55 with value: 0.7588150056351635.\n"
     ]
    },
    {
     "name": "stdout",
     "output_type": "stream",
     "text": [
      "F1=0.7441635807438416\n"
     ]
    },
    {
     "name": "stderr",
     "output_type": "stream",
     "text": [
      "[I 2020-07-09 17:59:35,752] Finished trial#85 with value: 0.7441635807438416 with parameters: {'lambda_l1': 0.08443899382774533, 'lambda_l2': 5.5353533976271955e-05, 'num_leaves': 131, 'feature_fraction': 0.7122864685719856, 'bagging_fraction': 0.8970909387031192, 'bagging_freq': 4, 'min_child_samples': 49}. Best is trial#55 with value: 0.7588150056351635.\n"
     ]
    },
    {
     "name": "stdout",
     "output_type": "stream",
     "text": [
      "F1=0.7526968282080182\n"
     ]
    },
    {
     "name": "stderr",
     "output_type": "stream",
     "text": [
      "[I 2020-07-09 18:01:38,066] Finished trial#86 with value: 0.7526968282080182 with parameters: {'lambda_l1': 0.03761632252468841, 'lambda_l2': 1.9142518335193086e-05, 'num_leaves': 153, 'feature_fraction': 0.6803567019507022, 'bagging_fraction': 0.9779376161607423, 'bagging_freq': 3, 'min_child_samples': 66}. Best is trial#55 with value: 0.7588150056351635.\n"
     ]
    },
    {
     "name": "stdout",
     "output_type": "stream",
     "text": [
      "F1=0.7452906134277895\n"
     ]
    },
    {
     "name": "stderr",
     "output_type": "stream",
     "text": [
      "[I 2020-07-09 18:04:51,448] Finished trial#87 with value: 0.7452906134277895 with parameters: {'lambda_l1': 0.012925885296213432, 'lambda_l2': 0.0001912643193167353, 'num_leaves': 136, 'feature_fraction': 0.9286363409454358, 'bagging_fraction': 0.9378086024838616, 'bagging_freq': 4, 'min_child_samples': 38}. Best is trial#55 with value: 0.7588150056351635.\n"
     ]
    },
    {
     "name": "stdout",
     "output_type": "stream",
     "text": [
      "F1=0.747866688133956\n"
     ]
    },
    {
     "name": "stderr",
     "output_type": "stream",
     "text": [
      "[I 2020-07-09 18:06:06,976] Finished trial#88 with value: 0.747866688133956 with parameters: {'lambda_l1': 6.944340723712673e-08, 'lambda_l2': 0.00030375942424592736, 'num_leaves': 196, 'feature_fraction': 0.4030906191805044, 'bagging_fraction': 0.7706115497622834, 'bagging_freq': 6, 'min_child_samples': 74}. Best is trial#55 with value: 0.7588150056351635.\n"
     ]
    },
    {
     "name": "stdout",
     "output_type": "stream",
     "text": [
      "F1=0.7380454033166962\n"
     ]
    },
    {
     "name": "stderr",
     "output_type": "stream",
     "text": [
      "[I 2020-07-09 18:10:14,689] Finished trial#89 with value: 0.7380454033166962 with parameters: {'lambda_l1': 1.7614650466966908e-08, 'lambda_l2': 5.499121021195342e-07, 'num_leaves': 171, 'feature_fraction': 0.8280802937352011, 'bagging_fraction': 0.9614083174452096, 'bagging_freq': 4, 'min_child_samples': 43}. Best is trial#55 with value: 0.7588150056351635.\n"
     ]
    },
    {
     "name": "stdout",
     "output_type": "stream",
     "text": [
      "F1=0.74947673482531\n"
     ]
    },
    {
     "name": "stderr",
     "output_type": "stream",
     "text": [
      "[I 2020-07-09 18:11:31,904] Finished trial#90 with value: 0.74947673482531 with parameters: {'lambda_l1': 0.6358180771255816, 'lambda_l2': 0.003549302087745804, 'num_leaves': 149, 'feature_fraction': 0.6999659081816564, 'bagging_fraction': 0.7392781474285555, 'bagging_freq': 4, 'min_child_samples': 51}. Best is trial#55 with value: 0.7588150056351635.\n"
     ]
    },
    {
     "name": "stdout",
     "output_type": "stream",
     "text": [
      "F1=0.7375623893092901\n"
     ]
    },
    {
     "name": "stderr",
     "output_type": "stream",
     "text": [
      "[I 2020-07-09 18:13:43,345] Finished trial#91 with value: 0.7375623893092901 with parameters: {'lambda_l1': 0.08522369947119751, 'lambda_l2': 2.612918140002677e-06, 'num_leaves': 121, 'feature_fraction': 0.7742118782866145, 'bagging_fraction': 0.9925138266811114, 'bagging_freq': 4, 'min_child_samples': 56}. Best is trial#55 with value: 0.7588150056351635.\n"
     ]
    },
    {
     "name": "stdout",
     "output_type": "stream",
     "text": [
      "F1=0.7425535340524875\n"
     ]
    },
    {
     "name": "stderr",
     "output_type": "stream",
     "text": [
      "[I 2020-07-09 18:15:39,591] Finished trial#92 with value: 0.7425535340524875 with parameters: {'lambda_l1': 0.030728154626483973, 'lambda_l2': 3.819366418465367e-05, 'num_leaves': 160, 'feature_fraction': 0.6560275535019253, 'bagging_fraction': 0.878928511294715, 'bagging_freq': 5, 'min_child_samples': 58}. Best is trial#55 with value: 0.7588150056351635.\n"
     ]
    },
    {
     "name": "stdout",
     "output_type": "stream",
     "text": [
      "F1=0.7399774593463211\n"
     ]
    },
    {
     "name": "stderr",
     "output_type": "stream",
     "text": [
      "[I 2020-07-09 18:17:32,074] Finished trial#93 with value: 0.7399774593463211 with parameters: {'lambda_l1': 0.15161519230087606, 'lambda_l2': 8.878522087991414e-06, 'num_leaves': 162, 'feature_fraction': 0.7290785117874156, 'bagging_fraction': 0.94771292831893, 'bagging_freq': 4, 'min_child_samples': 70}. Best is trial#55 with value: 0.7588150056351635.\n"
     ]
    },
    {
     "name": "stdout",
     "output_type": "stream",
     "text": [
      "F1=0.7457736274351956\n"
     ]
    },
    {
     "name": "stderr",
     "output_type": "stream",
     "text": [
      "[I 2020-07-09 18:19:41,764] Finished trial#94 with value: 0.7457736274351956 with parameters: {'lambda_l1': 0.06910733391769283, 'lambda_l2': 0.00010770699571521116, 'num_leaves': 114, 'feature_fraction': 0.718937108118067, 'bagging_fraction': 0.9676970068719432, 'bagging_freq': 3, 'min_child_samples': 48}. Best is trial#55 with value: 0.7588150056351635.\n"
     ]
    },
    {
     "name": "stdout",
     "output_type": "stream",
     "text": [
      "F1=0.74947673482531\n"
     ]
    },
    {
     "name": "stderr",
     "output_type": "stream",
     "text": [
      "[I 2020-07-09 18:21:11,888] Finished trial#95 with value: 0.74947673482531 with parameters: {'lambda_l1': 0.33430572247500634, 'lambda_l2': 2.3242395779222538e-07, 'num_leaves': 97, 'feature_fraction': 0.6745653705808599, 'bagging_fraction': 0.9208012997492606, 'bagging_freq': 7, 'min_child_samples': 64}. Best is trial#55 with value: 0.7588150056351635.\n"
     ]
    },
    {
     "name": "stdout",
     "output_type": "stream",
     "text": [
      "F1=0.722427950410562\n"
     ]
    },
    {
     "name": "stderr",
     "output_type": "stream",
     "text": [
      "[I 2020-07-09 18:25:06,577] Finished trial#96 with value: 0.722427950410562 with parameters: {'lambda_l1': 0.04461637605236742, 'lambda_l2': 4.732987701889031e-06, 'num_leaves': 182, 'feature_fraction': 0.7927382574205655, 'bagging_fraction': 0.864811294760376, 'bagging_freq': 4, 'min_child_samples': 6}. Best is trial#55 with value: 0.7588150056351635.\n"
     ]
    },
    {
     "name": "stdout",
     "output_type": "stream",
     "text": [
      "F1=0.7480276928030913\n"
     ]
    },
    {
     "name": "stderr",
     "output_type": "stream",
     "text": [
      "[I 2020-07-09 18:26:23,332] Finished trial#97 with value: 0.7480276928030913 with parameters: {'lambda_l1': 1.2898727092665359, 'lambda_l2': 1.9771722197691438e-05, 'num_leaves': 169, 'feature_fraction': 0.6961276302033198, 'bagging_fraction': 0.8154889691590963, 'bagging_freq': 6, 'min_child_samples': 40}. Best is trial#55 with value: 0.7588150056351635.\n"
     ]
    },
    {
     "name": "stdout",
     "output_type": "stream",
     "text": [
      "F1=0.7472226694574142\n"
     ]
    },
    {
     "name": "stderr",
     "output_type": "stream",
     "text": [
      "[I 2020-07-09 18:28:09,994] Finished trial#98 with value: 0.7472226694574142 with parameters: {'lambda_l1': 0.20282877522656026, 'lambda_l2': 7.253055309551843e-05, 'num_leaves': 141, 'feature_fraction': 0.7480813021060829, 'bagging_fraction': 0.838535192874358, 'bagging_freq': 5, 'min_child_samples': 52}. Best is trial#55 with value: 0.7588150056351635.\n"
     ]
    },
    {
     "name": "stdout",
     "output_type": "stream",
     "text": [
      "F1=0.7470616647882788\n"
     ]
    },
    {
     "name": "stderr",
     "output_type": "stream",
     "text": [
      "[I 2020-07-09 18:31:44,209] Finished trial#99 with value: 0.7470616647882788 with parameters: {'lambda_l1': 3.860921215338347e-08, 'lambda_l2': 1.289321054265063e-06, 'num_leaves': 158, 'feature_fraction': 0.8126035550903202, 'bagging_fraction': 0.9030543037234641, 'bagging_freq': 4, 'min_child_samples': 45}. Best is trial#55 with value: 0.7588150056351635.\n"
     ]
    },
    {
     "name": "stdout",
     "output_type": "stream",
     "text": [
      "Number of finished trials: 100\n",
      "Best trial:\n",
      "  Value: 0.7588150056351635\n",
      "  Params: \n",
      "    lambda_l1: 0.05757233864212971\n",
      "    lambda_l2: 4.644528267572721e-08\n",
      "    num_leaves: 185\n",
      "    feature_fraction: 0.8432452014952949\n",
      "    bagging_fraction: 0.7795604743183974\n",
      "    bagging_freq: 6\n",
      "    min_child_samples: 61\n"
     ]
    }
   ],
   "source": [
    "import optuna\n",
    "study = optuna.create_study(direction=\"maximize\")\n",
    "study.optimize(objective, n_trials=100)\n",
    "\n",
    "print(\"Number of finished trials: {}\".format(len(study.trials)))\n",
    "\n",
    "print(\"Best trial:\")\n",
    "trial = study.best_trial\n",
    "\n",
    "print(\"  Value: {}\".format(trial.value))\n",
    "\n",
    "print(\"  Params: \")\n",
    "for key, value in trial.params.items():\n",
    "    print(\"    {}: {}\".format(key, value))"
   ]
  }
 ],
 "metadata": {
  "kernelspec": {
   "display_name": "Python 3",
   "language": "python",
   "name": "python3"
  },
  "language_info": {
   "codemirror_mode": {
    "name": "ipython",
    "version": 3
   },
   "file_extension": ".py",
   "mimetype": "text/x-python",
   "name": "python",
   "nbconvert_exporter": "python",
   "pygments_lexer": "ipython3",
   "version": "3.7.6"
  }
 },
 "nbformat": 4,
 "nbformat_minor": 4
}
