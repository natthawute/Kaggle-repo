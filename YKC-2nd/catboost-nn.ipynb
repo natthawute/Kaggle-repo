{
 "cells": [
  {
   "cell_type": "code",
   "execution_count": 1,
   "metadata": {
    "_cell_guid": "b1076dfc-b9ad-4769-8c92-a6c4dae69d19",
    "_uuid": "8f2839f25d086af736a60e9eeb907d3b93b6e0e5"
   },
   "outputs": [],
   "source": [
    "import numpy as np\n",
    "import pandas as pd\n",
    "from sklearn.metrics import f1_score\n",
    "from catboost import Pool\n",
    "from catboost import CatBoostClassifier\n",
    "from sklearn.model_selection import KFold, StratifiedKFold\n",
    "import gensim\n",
    "from tqdm.notebook import tqdm\n",
    "import warnings\n",
    "warnings.filterwarnings('ignore')"
   ]
  },
  {
   "cell_type": "code",
   "execution_count": 2,
   "metadata": {
    "_cell_guid": "79c7e3d0-c299-4dcb-8224-4455121ee9b0",
    "_uuid": "d629ff2d2480ee46fbb7e2d37f6b5fab8052498a"
   },
   "outputs": [],
   "source": [
    "train = pd.read_csv(\"/kaggle/input/ykc-2nd/train.csv\")\n",
    "test = pd.read_csv(\"/kaggle/input/ykc-2nd/test.csv\")\n",
    "sub = pd.read_csv(\"/kaggle/input/ykc-2nd/sample_submission.csv\")\n",
    "nn_oof = pd.read_csv(\"/kaggle/input/ykc2nn/nn_oof.csv\")\n",
    "nn_test = pd.read_csv(\"/kaggle/input/ykc2nn/nn_test.csv\")"
   ]
  },
  {
   "cell_type": "code",
   "execution_count": 3,
   "metadata": {},
   "outputs": [],
   "source": [
    "train = train.join(nn_oof)\n",
    "test = test.join(nn_test)\n",
    "df = pd.concat([train, test])\n",
    "df = df.reset_index(drop=True)"
   ]
  },
  {
   "cell_type": "code",
   "execution_count": 4,
   "metadata": {},
   "outputs": [],
   "source": [
    "target = \"department_id\" \n",
    "n_split = 5\n",
    "features = [\"order_rate\", \"order_dow_mode\", \"order_hour_of_day_mode\"]  + list(map(str, range(21)))"
   ]
  },
  {
   "cell_type": "code",
   "execution_count": 5,
   "metadata": {},
   "outputs": [],
   "source": [
    "train = df[~df[target].isna()]\n",
    "test = df[df[target].isna()]"
   ]
  },
  {
   "cell_type": "code",
   "execution_count": 6,
   "metadata": {},
   "outputs": [
    {
     "name": "stdout",
     "output_type": "stream",
     "text": [
      "--------fold 0-------\n",
      "F1 = 0.7381766955121756\n",
      "--------fold 1-------\n",
      "F1 = 0.7393841819279533\n",
      "--------fold 2-------\n",
      "F1 = 0.7330917874396136\n",
      "--------fold 3-------\n",
      "F1 = 0.7399355877616747\n",
      "--------fold 4-------\n",
      "F1 = 0.7413446054750402\n"
     ]
    }
   ],
   "source": [
    "# cross validation\n",
    "preds_test = []\n",
    "scores = []\n",
    "oof_preds = np.zeros((train.shape[0], train['department_id'].nunique()))\n",
    "kfold = StratifiedKFold(n_splits=n_split, shuffle = True, random_state=42)\n",
    "for i_fold, (train_idx, valid_idx) in enumerate(kfold.split(train, train[target])):\n",
    "    print(f\"--------fold {i_fold}-------\")\n",
    "    ## train data\n",
    "    x_tr = train.loc[train_idx, features]\n",
    "    y_tr = train.loc[train_idx, target]\n",
    "\n",
    "    ## valid data\n",
    "    x_va = train.loc[valid_idx, features]\n",
    "    y_va = train.loc[valid_idx, target]\n",
    "\n",
    "    train_pool = Pool(x_tr, y_tr)\n",
    "    validate_pool = Pool(x_va, y_va)\n",
    "    \n",
    "    params = {\"loss_function\": \"MultiClass\",\n",
    "              \"eval_metric\": \"TotalF1:average=Micro\",\n",
    "              \"use_best_model\": True,\n",
    "              \"random_seed\": 42,\n",
    "              \"verbose\": False}\n",
    "    \n",
    "    model = CatBoostClassifier(**params)\n",
    "    model.fit(train_pool, eval_set=validate_pool)\n",
    "    \n",
    "    ## predict on valid\n",
    "    pred_val = model.predict_proba(x_va)\n",
    "    oof_preds[valid_idx, :] = pred_val\n",
    "    \n",
    "    ## evaluate\n",
    "    score = f1_score(y_va, np.argmax(pred_val, axis = 1), average = \"micro\")\n",
    "    print(f'F1 = {score}')\n",
    "    scores.append(score)\n",
    "    \n",
    "    ## predict on test\n",
    "    pred_test = model.predict_proba(test[features])\n",
    "    preds_test.append(pred_test)"
   ]
  },
  {
   "cell_type": "code",
   "execution_count": 7,
   "metadata": {},
   "outputs": [
    {
     "data": {
      "text/plain": [
       "0.7383865716232914"
      ]
     },
     "execution_count": 7,
     "metadata": {},
     "output_type": "execute_result"
    }
   ],
   "source": [
    "np.mean(scores)"
   ]
  },
  {
   "cell_type": "code",
   "execution_count": 8,
   "metadata": {},
   "outputs": [],
   "source": [
    "pred_test = model.predict_proba(test[features])\n",
    "preds_test.append(pred_test)"
   ]
  },
  {
   "cell_type": "code",
   "execution_count": 9,
   "metadata": {},
   "outputs": [],
   "source": [
    "pred_test_prob = np.array(preds_test).mean(axis = 0)\n",
    "pred_test_value = np.argmax(pred_test_prob, axis = 1)"
   ]
  },
  {
   "cell_type": "code",
   "execution_count": 10,
   "metadata": {},
   "outputs": [],
   "source": [
    "pd.DataFrame(oof_preds).to_csv('catboost_nn_oof.csv', index=False)"
   ]
  },
  {
   "cell_type": "code",
   "execution_count": 11,
   "metadata": {},
   "outputs": [],
   "source": [
    "pd.DataFrame(pred_test_prob).to_csv('catboost_nn_test.csv', index=False)"
   ]
  },
  {
   "cell_type": "code",
   "execution_count": 12,
   "metadata": {},
   "outputs": [
    {
     "data": {
      "text/html": [
       "<div>\n",
       "<style scoped>\n",
       "    .dataframe tbody tr th:only-of-type {\n",
       "        vertical-align: middle;\n",
       "    }\n",
       "\n",
       "    .dataframe tbody tr th {\n",
       "        vertical-align: top;\n",
       "    }\n",
       "\n",
       "    .dataframe thead th {\n",
       "        text-align: right;\n",
       "    }\n",
       "</style>\n",
       "<table border=\"1\" class=\"dataframe\">\n",
       "  <thead>\n",
       "    <tr style=\"text-align: right;\">\n",
       "      <th></th>\n",
       "      <th>product_id</th>\n",
       "      <th>department_id</th>\n",
       "    </tr>\n",
       "  </thead>\n",
       "  <tbody>\n",
       "    <tr>\n",
       "      <th>0</th>\n",
       "      <td>24842</td>\n",
       "      <td>18</td>\n",
       "    </tr>\n",
       "    <tr>\n",
       "      <th>1</th>\n",
       "      <td>24843</td>\n",
       "      <td>6</td>\n",
       "    </tr>\n",
       "    <tr>\n",
       "      <th>2</th>\n",
       "      <td>24844</td>\n",
       "      <td>6</td>\n",
       "    </tr>\n",
       "    <tr>\n",
       "      <th>3</th>\n",
       "      <td>24845</td>\n",
       "      <td>6</td>\n",
       "    </tr>\n",
       "    <tr>\n",
       "      <th>4</th>\n",
       "      <td>24846</td>\n",
       "      <td>12</td>\n",
       "    </tr>\n",
       "  </tbody>\n",
       "</table>\n",
       "</div>"
      ],
      "text/plain": [
       "   product_id  department_id\n",
       "0       24842             18\n",
       "1       24843              6\n",
       "2       24844              6\n",
       "3       24845              6\n",
       "4       24846             12"
      ]
     },
     "execution_count": 12,
     "metadata": {},
     "output_type": "execute_result"
    }
   ],
   "source": [
    "sub[\"department_id\"] = pred_test_value\n",
    "sub.to_csv(\"submission_nn.csv\", index = False)\n",
    "sub.head()"
   ]
  }
 ],
 "metadata": {
  "kernelspec": {
   "display_name": "Python 3",
   "language": "python",
   "name": "python3"
  },
  "language_info": {
   "codemirror_mode": {
    "name": "ipython",
    "version": 3
   },
   "file_extension": ".py",
   "mimetype": "text/x-python",
   "name": "python",
   "nbconvert_exporter": "python",
   "pygments_lexer": "ipython3",
   "version": "3.7.6"
  }
 },
 "nbformat": 4,
 "nbformat_minor": 4
}
