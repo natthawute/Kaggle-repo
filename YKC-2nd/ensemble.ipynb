{
 "cells": [
  {
   "cell_type": "code",
   "execution_count": 1,
   "metadata": {
    "_cell_guid": "b1076dfc-b9ad-4769-8c92-a6c4dae69d19",
    "_uuid": "8f2839f25d086af736a60e9eeb907d3b93b6e0e5"
   },
   "outputs": [],
   "source": [
    "import numpy as np \n",
    "import pandas as pd \n",
    "from sklearn.metrics import f1_score"
   ]
  },
  {
   "cell_type": "code",
   "execution_count": 2,
   "metadata": {
    "_cell_guid": "79c7e3d0-c299-4dcb-8224-4455121ee9b0",
    "_uuid": "d629ff2d2480ee46fbb7e2d37f6b5fab8052498a"
   },
   "outputs": [],
   "source": [
    "catboost_oof = pd.read_csv(\"../input/ykc2-cb-ngt/catboost_text_vector_oof.csv\")\n",
    "catboost_test = pd.read_csv(\"../input/ykc2-cb-ngt/catboost_text_vector_test.csv\")\n",
    "nn_oof = pd.read_csv(\"../input/ykc2-catboost-text-nn/catboost_text_nn_oof.csv\")\n",
    "nn_test = pd.read_csv(\"../input/ykc2-catboost-text-nn/catboost_text_nn_test.csv\")\n",
    "lgb_oof = pd.read_csv(\"../input/ykc2-catboost-ngt-top-n/catboost_text_vector_oof.csv\")\n",
    "lgb_test = pd.read_csv(\"../input/ykc2-catboost-ngt-top-n/catboost_text_vector_test.csv\")\n",
    "train = pd.read_csv(\"../input/ykc-2nd/train.csv\")\n",
    "sub = pd.read_csv(\"../input/ykc-2nd/sample_submission.csv\")\n",
    "target = 'department_id'"
   ]
  },
  {
   "cell_type": "code",
   "execution_count": 3,
   "metadata": {},
   "outputs": [],
   "source": [
    "target_df = train[['department_id']]"
   ]
  },
  {
   "cell_type": "code",
   "execution_count": 4,
   "metadata": {},
   "outputs": [],
   "source": [
    "#normalizing nn\n",
    "nn_oof = nn_oof.div(nn_oof.sum(axis=1), axis=0)\n",
    "nn_test = nn_test.div(nn_test.sum(axis=1), axis=0)"
   ]
  },
  {
   "cell_type": "code",
   "execution_count": 5,
   "metadata": {},
   "outputs": [
    {
     "data": {
      "text/html": [
       "<div>\n",
       "<style scoped>\n",
       "    .dataframe tbody tr th:only-of-type {\n",
       "        vertical-align: middle;\n",
       "    }\n",
       "\n",
       "    .dataframe tbody tr th {\n",
       "        vertical-align: top;\n",
       "    }\n",
       "\n",
       "    .dataframe thead th {\n",
       "        text-align: right;\n",
       "    }\n",
       "</style>\n",
       "<table border=\"1\" class=\"dataframe\">\n",
       "  <thead>\n",
       "    <tr style=\"text-align: right;\">\n",
       "      <th></th>\n",
       "      <th>cb_coef</th>\n",
       "      <th>nn_coef</th>\n",
       "      <th>lgb_coef</th>\n",
       "      <th>f1</th>\n",
       "    </tr>\n",
       "  </thead>\n",
       "  <tbody>\n",
       "    <tr>\n",
       "      <th>53</th>\n",
       "      <td>0.6</td>\n",
       "      <td>0.2</td>\n",
       "      <td>2.000000e-01</td>\n",
       "      <td>0.812535</td>\n",
       "    </tr>\n",
       "    <tr>\n",
       "      <th>54</th>\n",
       "      <td>0.6</td>\n",
       "      <td>0.3</td>\n",
       "      <td>1.000000e-01</td>\n",
       "      <td>0.812334</td>\n",
       "    </tr>\n",
       "    <tr>\n",
       "      <th>59</th>\n",
       "      <td>0.7</td>\n",
       "      <td>0.3</td>\n",
       "      <td>5.551115e-17</td>\n",
       "      <td>0.812173</td>\n",
       "    </tr>\n",
       "    <tr>\n",
       "      <th>58</th>\n",
       "      <td>0.7</td>\n",
       "      <td>0.2</td>\n",
       "      <td>1.000000e-01</td>\n",
       "      <td>0.812173</td>\n",
       "    </tr>\n",
       "    <tr>\n",
       "      <th>49</th>\n",
       "      <td>0.5</td>\n",
       "      <td>0.4</td>\n",
       "      <td>1.000000e-01</td>\n",
       "      <td>0.811408</td>\n",
       "    </tr>\n",
       "  </tbody>\n",
       "</table>\n",
       "</div>"
      ],
      "text/plain": [
       "    cb_coef  nn_coef      lgb_coef        f1\n",
       "53      0.6      0.2  2.000000e-01  0.812535\n",
       "54      0.6      0.3  1.000000e-01  0.812334\n",
       "59      0.7      0.3  5.551115e-17  0.812173\n",
       "58      0.7      0.2  1.000000e-01  0.812173\n",
       "49      0.5      0.4  1.000000e-01  0.811408"
      ]
     },
     "execution_count": 5,
     "metadata": {},
     "output_type": "execute_result"
    }
   ],
   "source": [
    "#find the best coeeficient\n",
    "scores = []\n",
    "for i in range(11):\n",
    "    for j in range(11-i):\n",
    "        cb_coef = i/10\n",
    "        nn_coef = j/10\n",
    "        lgb_coef = 1-cb_coef-nn_coef\n",
    "        train_df = target_df.join(cb_coef * catboost_oof + nn_coef * nn_oof + lgb_coef * lgb_oof)\n",
    "\n",
    "        y_preds = train_df.drop(target, axis=1).values\n",
    "        y = train_df[target]\n",
    "\n",
    "        f1 = f1_score(y, np.argmax(y_preds, axis = 1), average = \"micro\")\n",
    "        scores.append({'cb_coef':cb_coef, 'nn_coef':nn_coef, 'lgb_coef':lgb_coef, 'f1':f1})\n",
    "score_df = pd.DataFrame(scores)\n",
    "score_df.sort_values('f1', ascending=False).head()"
   ]
  },
  {
   "cell_type": "code",
   "execution_count": 6,
   "metadata": {},
   "outputs": [],
   "source": [
    "idx = score_df.f1.argmax()\n",
    "cb_coef = score_df.loc[idx, 'cb_coef']\n",
    "nn_coef = score_df.loc[idx, 'nn_coef']\n",
    "lgb_coef = score_df.loc[idx, 'lgb_coef']\n",
    "y_pred = cb_coef * catboost_test + nn_coef * nn_test + lgb_coef * lgb_test\n",
    "pred_final = y_pred.values"
   ]
  },
  {
   "cell_type": "code",
   "execution_count": 7,
   "metadata": {},
   "outputs": [
    {
     "data": {
      "text/html": [
       "<div>\n",
       "<style scoped>\n",
       "    .dataframe tbody tr th:only-of-type {\n",
       "        vertical-align: middle;\n",
       "    }\n",
       "\n",
       "    .dataframe tbody tr th {\n",
       "        vertical-align: top;\n",
       "    }\n",
       "\n",
       "    .dataframe thead th {\n",
       "        text-align: right;\n",
       "    }\n",
       "</style>\n",
       "<table border=\"1\" class=\"dataframe\">\n",
       "  <thead>\n",
       "    <tr style=\"text-align: right;\">\n",
       "      <th></th>\n",
       "      <th>product_id</th>\n",
       "      <th>department_id</th>\n",
       "    </tr>\n",
       "  </thead>\n",
       "  <tbody>\n",
       "    <tr>\n",
       "      <th>0</th>\n",
       "      <td>24842</td>\n",
       "      <td>18</td>\n",
       "    </tr>\n",
       "    <tr>\n",
       "      <th>1</th>\n",
       "      <td>24843</td>\n",
       "      <td>6</td>\n",
       "    </tr>\n",
       "    <tr>\n",
       "      <th>2</th>\n",
       "      <td>24844</td>\n",
       "      <td>6</td>\n",
       "    </tr>\n",
       "    <tr>\n",
       "      <th>3</th>\n",
       "      <td>24845</td>\n",
       "      <td>6</td>\n",
       "    </tr>\n",
       "    <tr>\n",
       "      <th>4</th>\n",
       "      <td>24846</td>\n",
       "      <td>2</td>\n",
       "    </tr>\n",
       "  </tbody>\n",
       "</table>\n",
       "</div>"
      ],
      "text/plain": [
       "   product_id  department_id\n",
       "0       24842             18\n",
       "1       24843              6\n",
       "2       24844              6\n",
       "3       24845              6\n",
       "4       24846              2"
      ]
     },
     "execution_count": 7,
     "metadata": {},
     "output_type": "execute_result"
    }
   ],
   "source": [
    "pred_final_value = np.argmax(np.array(pred_final), axis=1)\n",
    "sub[\"department_id\"] = pred_final_value\n",
    "sub.to_csv(\"submission.csv\", index = False)\n",
    "sub.head()"
   ]
  }
 ],
 "metadata": {
  "kernelspec": {
   "display_name": "Python 3",
   "language": "python",
   "name": "python3"
  },
  "language_info": {
   "codemirror_mode": {
    "name": "ipython",
    "version": 3
   },
   "file_extension": ".py",
   "mimetype": "text/x-python",
   "name": "python",
   "nbconvert_exporter": "python",
   "pygments_lexer": "ipython3",
   "version": "3.7.6"
  }
 },
 "nbformat": 4,
 "nbformat_minor": 4
}
