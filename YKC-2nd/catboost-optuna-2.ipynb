{
 "cells": [
  {
   "cell_type": "code",
   "execution_count": 1,
   "metadata": {
    "_cell_guid": "b1076dfc-b9ad-4769-8c92-a6c4dae69d19",
    "_uuid": "8f2839f25d086af736a60e9eeb907d3b93b6e0e5"
   },
   "outputs": [],
   "source": [
    "import numpy as np\n",
    "import pandas as pd\n",
    "from sklearn.metrics import f1_score\n",
    "from catboost import Pool\n",
    "from catboost import CatBoostClassifier\n",
    "from sklearn.model_selection import KFold, StratifiedKFold\n",
    "import gensim\n",
    "from tqdm.notebook import tqdm\n",
    "import warnings\n",
    "warnings.filterwarnings('ignore')"
   ]
  },
  {
   "cell_type": "code",
   "execution_count": 2,
   "metadata": {
    "_cell_guid": "79c7e3d0-c299-4dcb-8224-4455121ee9b0",
    "_uuid": "d629ff2d2480ee46fbb7e2d37f6b5fab8052498a"
   },
   "outputs": [],
   "source": [
    "train = pd.read_csv(\"/kaggle/input/ykc-2nd/train.csv\")\n",
    "test = pd.read_csv(\"/kaggle/input/ykc-2nd/test.csv\")\n",
    "sub = pd.read_csv(\"/kaggle/input/ykc-2nd/sample_submission.csv\")"
   ]
  },
  {
   "cell_type": "code",
   "execution_count": 3,
   "metadata": {},
   "outputs": [],
   "source": [
    "df = pd.concat([train, test])\n",
    "df = df.reset_index(drop=True)"
   ]
  },
  {
   "cell_type": "code",
   "execution_count": 4,
   "metadata": {},
   "outputs": [],
   "source": [
    "target = \"department_id\" \n",
    "n_split = 5\n",
    "features = [\"product_name\", \"order_rate\", \"order_dow_mode\", \"order_hour_of_day_mode\"]\n",
    "text_features = [\"product_name\"]"
   ]
  },
  {
   "cell_type": "code",
   "execution_count": 5,
   "metadata": {},
   "outputs": [],
   "source": [
    "train = df[~df[target].isna()]\n",
    "test = df[df[target].isna()]"
   ]
  },
  {
   "cell_type": "code",
   "execution_count": 6,
   "metadata": {},
   "outputs": [],
   "source": [
    "X = train.drop(target, axis=1)\n",
    "y = train[target]"
   ]
  },
  {
   "cell_type": "code",
   "execution_count": 7,
   "metadata": {},
   "outputs": [],
   "source": [
    "from sklearn.model_selection import train_test_split\n",
    "from catboost import Pool\n",
    "import sklearn.metrics\n",
    "def objective(trial):\n",
    "    # トレーニングデータとテストデータを分割\n",
    "    train_x, test_x, train_y, test_y = train_test_split(X, y, test_size=0.2)\n",
    "    train_pool = Pool(train_x, train_y, text_features=text_features)\n",
    "    test_pool = Pool(test_x, test_y, text_features=text_features)\n",
    "\n",
    "    # パラメータの指定\n",
    "    params = {\n",
    "        'iterations' : trial.suggest_int('iterations', 50, 300),                         \n",
    "        'depth' : trial.suggest_int('depth', 4, 10),                                       \n",
    "        'learning_rate' : trial.suggest_loguniform('learning_rate', 0.01, 0.3),               \n",
    "        'random_strength' :trial.suggest_int('random_strength', 0, 100),                       \n",
    "        'bagging_temperature' :trial.suggest_loguniform('bagging_temperature', 0.01, 100.00), \n",
    "        'od_type': trial.suggest_categorical('od_type', ['IncToDec', 'Iter']),\n",
    "        'od_wait' :trial.suggest_int('od_wait', 10, 50),\n",
    "        \"verbose\": False\n",
    "    }\n",
    "    # 学習\n",
    "    model = CatBoostClassifier(**params)\n",
    "    model.fit(train_pool)\n",
    "\n",
    "        ## predict on valid\n",
    "    pred_val = model.predict_proba(test_x)\n",
    "\n",
    "    ## evaluate\n",
    "    score = f1_score(test_y, np.argmax(pred_val, axis = 1), average = \"micro\")\n",
    "    print(f'F1={score}')\n",
    "    return 1.0 - score"
   ]
  },
  {
   "cell_type": "code",
   "execution_count": 8,
   "metadata": {},
   "outputs": [
    {
     "name": "stdout",
     "output_type": "stream",
     "text": [
      "F1=0.7556852485409539\n"
     ]
    },
    {
     "name": "stderr",
     "output_type": "stream",
     "text": [
      "[I 2020-07-10 00:18:12,134] Finished trial#0 with value: 0.24431475145904613 with parameters: {'iterations': 135, 'depth': 5, 'learning_rate': 0.20059424301783854, 'random_strength': 88, 'bagging_temperature': 5.577381570223931, 'od_type': 'Iter', 'od_wait': 21}. Best is trial#0 with value: 0.24431475145904613.\n"
     ]
    },
    {
     "name": "stdout",
     "output_type": "stream",
     "text": [
      "F1=0.767558864962769\n"
     ]
    },
    {
     "name": "stderr",
     "output_type": "stream",
     "text": [
      "[I 2020-07-10 00:23:37,856] Finished trial#1 with value: 0.23244113503723096 with parameters: {'iterations': 118, 'depth': 6, 'learning_rate': 0.2674695924319836, 'random_strength': 1, 'bagging_temperature': 0.2143866582908958, 'od_type': 'IncToDec', 'od_wait': 29}. Best is trial#1 with value: 0.23244113503723096.\n"
     ]
    },
    {
     "name": "stdout",
     "output_type": "stream",
     "text": [
      "F1=0.4775608774401288\n"
     ]
    },
    {
     "name": "stderr",
     "output_type": "stream",
     "text": [
      "[I 2020-07-10 00:42:14,725] Finished trial#2 with value: 0.5224391225598712 with parameters: {'iterations': 80, 'depth': 9, 'learning_rate': 0.026054629337761922, 'random_strength': 29, 'bagging_temperature': 0.18666630039822943, 'od_type': 'IncToDec', 'od_wait': 32}. Best is trial#1 with value: 0.23244113503723096.\n"
     ]
    },
    {
     "name": "stdout",
     "output_type": "stream",
     "text": [
      "F1=0.7572952304286577\n"
     ]
    },
    {
     "name": "stderr",
     "output_type": "stream",
     "text": [
      "[I 2020-07-10 00:47:30,532] Finished trial#3 with value: 0.24270476957134235 with parameters: {'iterations': 169, 'depth': 5, 'learning_rate': 0.07991346645472824, 'random_strength': 23, 'bagging_temperature': 2.469346056388567, 'od_type': 'IncToDec', 'od_wait': 49}. Best is trial#1 with value: 0.23244113503723096.\n"
     ]
    },
    {
     "name": "stdout",
     "output_type": "stream",
     "text": [
      "F1=0.7667538740189173\n"
     ]
    },
    {
     "name": "stderr",
     "output_type": "stream",
     "text": [
      "[I 2020-07-10 00:50:28,495] Finished trial#4 with value: 0.23324612598108274 with parameters: {'iterations': 264, 'depth': 4, 'learning_rate': 0.1692988757406398, 'random_strength': 22, 'bagging_temperature': 0.01716839970032632, 'od_type': 'Iter', 'od_wait': 11}. Best is trial#1 with value: 0.23244113503723096.\n"
     ]
    },
    {
     "name": "stdout",
     "output_type": "stream",
     "text": [
      "F1=0.7468303481585832\n"
     ]
    },
    {
     "name": "stderr",
     "output_type": "stream",
     "text": [
      "[I 2020-07-10 00:57:26,543] Finished trial#5 with value: 0.2531696518414168 with parameters: {'iterations': 151, 'depth': 6, 'learning_rate': 0.11475914254228946, 'random_strength': 15, 'bagging_temperature': 21.16281682038129, 'od_type': 'Iter', 'od_wait': 31}. Best is trial#1 with value: 0.23244113503723096.\n"
     ]
    },
    {
     "name": "stdout",
     "output_type": "stream",
     "text": [
      "F1=0.5403501710605756\n"
     ]
    },
    {
     "name": "stderr",
     "output_type": "stream",
     "text": [
      "[I 2020-07-10 01:42:10,004] Finished trial#6 with value: 0.4596498289394244 with parameters: {'iterations': 191, 'depth': 9, 'learning_rate': 0.03042039964141004, 'random_strength': 83, 'bagging_temperature': 0.09036267691872883, 'od_type': 'Iter', 'od_wait': 14}. Best is trial#1 with value: 0.23244113503723096.\n"
     ]
    },
    {
     "name": "stdout",
     "output_type": "stream",
     "text": [
      "F1=0.7574964781646206\n"
     ]
    },
    {
     "name": "stderr",
     "output_type": "stream",
     "text": [
      "[I 2020-07-10 02:31:22,023] Finished trial#7 with value: 0.24250352183537938 with parameters: {'iterations': 210, 'depth': 9, 'learning_rate': 0.07730303082777534, 'random_strength': 90, 'bagging_temperature': 0.2634718300332031, 'od_type': 'IncToDec', 'od_wait': 21}. Best is trial#1 with value: 0.23244113503723096.\n"
     ]
    },
    {
     "name": "stdout",
     "output_type": "stream",
     "text": [
      "F1=0.7369692090963975\n"
     ]
    },
    {
     "name": "stderr",
     "output_type": "stream",
     "text": [
      "[I 2020-07-10 02:45:46,909] Finished trial#8 with value: 0.2630307909036025 with parameters: {'iterations': 61, 'depth': 9, 'learning_rate': 0.08812899156233642, 'random_strength': 94, 'bagging_temperature': 5.768706414586887, 'od_type': 'Iter', 'od_wait': 11}. Best is trial#1 with value: 0.23244113503723096.\n"
     ]
    },
    {
     "name": "stdout",
     "output_type": "stream",
     "text": [
      "F1=0.7456228617428053\n"
     ]
    },
    {
     "name": "stderr",
     "output_type": "stream",
     "text": [
      "[I 2020-07-10 04:23:22,646] Finished trial#9 with value: 0.25437713825719466 with parameters: {'iterations': 223, 'depth': 10, 'learning_rate': 0.014387871311614767, 'random_strength': 14, 'bagging_temperature': 4.19439974622849, 'od_type': 'IncToDec', 'od_wait': 17}. Best is trial#1 with value: 0.23244113503723096.\n"
     ]
    },
    {
     "name": "stdout",
     "output_type": "stream",
     "text": [
      "F1=0.7653451398671766\n"
     ]
    },
    {
     "name": "stderr",
     "output_type": "stream",
     "text": [
      "[I 2020-07-10 04:31:31,942] Finished trial#10 with value: 0.23465486013282344 with parameters: {'iterations': 108, 'depth': 7, 'learning_rate': 0.2954613748624662, 'random_strength': 55, 'bagging_temperature': 0.012787379965864503, 'od_type': 'IncToDec', 'od_wait': 41}. Best is trial#1 with value: 0.23244113503723096.\n"
     ]
    },
    {
     "name": "stdout",
     "output_type": "stream",
     "text": [
      "F1=0.7673576172268062\n"
     ]
    },
    {
     "name": "stderr",
     "output_type": "stream",
     "text": [
      "[I 2020-07-10 04:34:54,734] Finished trial#11 with value: 0.23264238277319382 with parameters: {'iterations': 295, 'depth': 4, 'learning_rate': 0.2774446385846101, 'random_strength': 0, 'bagging_temperature': 0.011831297165004155, 'od_type': 'Iter', 'od_wait': 39}. Best is trial#1 with value: 0.23244113503723096.\n"
     ]
    },
    {
     "name": "stdout",
     "output_type": "stream",
     "text": [
      "F1=0.7713825719460656\n"
     ]
    },
    {
     "name": "stderr",
     "output_type": "stream",
     "text": [
      "[I 2020-07-10 04:57:29,984] Finished trial#12 with value: 0.22861742805393437 with parameters: {'iterations': 299, 'depth': 7, 'learning_rate': 0.2837328369248532, 'random_strength': 0, 'bagging_temperature': 0.06067029031572031, 'od_type': 'IncToDec', 'od_wait': 39}. Best is trial#12 with value: 0.22861742805393437.\n"
     ]
    },
    {
     "name": "stdout",
     "output_type": "stream",
     "text": [
      "F1=0.7587039645803985\n"
     ]
    },
    {
     "name": "stderr",
     "output_type": "stream",
     "text": [
      "[I 2020-07-10 05:06:13,173] Finished trial#13 with value: 0.24129603541960154 with parameters: {'iterations': 114, 'depth': 7, 'learning_rate': 0.2965031066650733, 'random_strength': 3, 'bagging_temperature': 0.06639664578514376, 'od_type': 'IncToDec', 'od_wait': 39}. Best is trial#12 with value: 0.22861742805393437.\n"
     ]
    },
    {
     "name": "stdout",
     "output_type": "stream",
     "text": [
      "F1=0.7643389011873617\n"
     ]
    },
    {
     "name": "stderr",
     "output_type": "stream",
     "text": [
      "[I 2020-07-10 05:18:11,342] Finished trial#14 with value: 0.2356610988126383 with parameters: {'iterations': 253, 'depth': 6, 'learning_rate': 0.1590229784984046, 'random_strength': 44, 'bagging_temperature': 0.6660517214192673, 'od_type': 'IncToDec', 'od_wait': 49}. Best is trial#12 with value: 0.22861742805393437.\n"
     ]
    },
    {
     "name": "stdout",
     "output_type": "stream",
     "text": [
      "F1=0.7554840008049908\n"
     ]
    },
    {
     "name": "stderr",
     "output_type": "stream",
     "text": [
      "[I 2020-07-10 05:29:48,457] Finished trial#15 with value: 0.24451599919500921 with parameters: {'iterations': 90, 'depth': 8, 'learning_rate': 0.048800490582603905, 'random_strength': 2, 'bagging_temperature': 0.037649161620677295, 'od_type': 'IncToDec', 'od_wait': 25}. Best is trial#12 with value: 0.22861742805393437.\n"
     ]
    },
    {
     "name": "stdout",
     "output_type": "stream",
     "text": [
      "F1=0.7444153753270276\n"
     ]
    },
    {
     "name": "stderr",
     "output_type": "stream",
     "text": [
      "[I 2020-07-10 05:32:31,412] Finished trial#16 with value: 0.2555846246729724 with parameters: {'iterations': 57, 'depth': 6, 'learning_rate': 0.23981067119555272, 'random_strength': 40, 'bagging_temperature': 0.6016176045792309, 'od_type': 'IncToDec', 'od_wait': 34}. Best is trial#12 with value: 0.22861742805393437.\n"
     ]
    },
    {
     "name": "stdout",
     "output_type": "stream",
     "text": [
      "F1=0.7737975447776213\n"
     ]
    },
    {
     "name": "stderr",
     "output_type": "stream",
     "text": [
      "[I 2020-07-10 06:11:05,694] Finished trial#17 with value: 0.2262024552223787 with parameters: {'iterations': 296, 'depth': 8, 'learning_rate': 0.12981336602827964, 'random_strength': 64, 'bagging_temperature': 0.19418721946609516, 'od_type': 'IncToDec', 'od_wait': 44}. Best is trial#17 with value: 0.2262024552223787.\n"
     ]
    },
    {
     "name": "stdout",
     "output_type": "stream",
     "text": [
      "F1=0.7727913060978064\n"
     ]
    },
    {
     "name": "stderr",
     "output_type": "stream",
     "text": [
      "[I 2020-07-10 06:50:20,185] Finished trial#18 with value: 0.22720869390219356 with parameters: {'iterations': 299, 'depth': 8, 'learning_rate': 0.13507569370285255, 'random_strength': 68, 'bagging_temperature': 0.03489233315457894, 'od_type': 'IncToDec', 'od_wait': 43}. Best is trial#17 with value: 0.2262024552223787.\n"
     ]
    },
    {
     "name": "stdout",
     "output_type": "stream",
     "text": [
      "F1=0.13624471724693096\n"
     ]
    },
    {
     "name": "stderr",
     "output_type": "stream",
     "text": [
      "[I 2020-07-10 06:51:39,675] Finished trial#19 with value: 0.863755282753069 with parameters: {'iterations': 272, 'depth': 8, 'learning_rate': 0.12379085320090004, 'random_strength': 69, 'bagging_temperature': 88.17761525804818, 'od_type': 'IncToDec', 'od_wait': 45}. Best is trial#17 with value: 0.2262024552223787.\n"
     ]
    },
    {
     "name": "stdout",
     "output_type": "stream",
     "text": [
      "Best trial:\n",
      "FrozenTrial(number=17, value=0.2262024552223787, datetime_start=datetime.datetime(2020, 7, 10, 5, 32, 31, 416088), datetime_complete=datetime.datetime(2020, 7, 10, 6, 11, 5, 694436), params={'iterations': 296, 'depth': 8, 'learning_rate': 0.12981336602827964, 'random_strength': 64, 'bagging_temperature': 0.19418721946609516, 'od_type': 'IncToDec', 'od_wait': 44}, distributions={'iterations': IntUniformDistribution(high=300, low=50, step=1), 'depth': IntUniformDistribution(high=10, low=4, step=1), 'learning_rate': LogUniformDistribution(high=0.3, low=0.01), 'random_strength': IntUniformDistribution(high=100, low=0, step=1), 'bagging_temperature': LogUniformDistribution(high=100.0, low=0.01), 'od_type': CategoricalDistribution(choices=('IncToDec', 'Iter')), 'od_wait': IntUniformDistribution(high=50, low=10, step=1)}, user_attrs={}, system_attrs={}, intermediate_values={}, trial_id=17, state=TrialState.COMPLETE)\n"
     ]
    },
    {
     "ename": "NameError",
     "evalue": "name 'trial' is not defined",
     "output_type": "error",
     "traceback": [
      "\u001b[0;31m---------------------------------------------------------------------------\u001b[0m",
      "\u001b[0;31mNameError\u001b[0m                                 Traceback (most recent call last)",
      "\u001b[0;32m<ipython-input-8-758215cb868b>\u001b[0m in \u001b[0;36m<module>\u001b[0;34m\u001b[0m\n\u001b[1;32m      5\u001b[0m \u001b[0mprint\u001b[0m\u001b[0;34m(\u001b[0m\u001b[0mstudy\u001b[0m\u001b[0;34m.\u001b[0m\u001b[0mbest_trial\u001b[0m\u001b[0;34m)\u001b[0m\u001b[0;34m\u001b[0m\u001b[0;34m\u001b[0m\u001b[0m\n\u001b[1;32m      6\u001b[0m \u001b[0;34m\u001b[0m\u001b[0m\n\u001b[0;32m----> 7\u001b[0;31m \u001b[0mprint\u001b[0m\u001b[0;34m(\u001b[0m\u001b[0;34m\"  Value: {}\"\u001b[0m\u001b[0;34m.\u001b[0m\u001b[0mformat\u001b[0m\u001b[0;34m(\u001b[0m\u001b[0mtrial\u001b[0m\u001b[0;34m.\u001b[0m\u001b[0mvalue\u001b[0m\u001b[0;34m)\u001b[0m\u001b[0;34m)\u001b[0m\u001b[0;34m\u001b[0m\u001b[0;34m\u001b[0m\u001b[0m\n\u001b[0m\u001b[1;32m      8\u001b[0m \u001b[0;34m\u001b[0m\u001b[0m\n\u001b[1;32m      9\u001b[0m \u001b[0mprint\u001b[0m\u001b[0;34m(\u001b[0m\u001b[0;34m\"  Params: \"\u001b[0m\u001b[0;34m)\u001b[0m\u001b[0;34m\u001b[0m\u001b[0;34m\u001b[0m\u001b[0m\n",
      "\u001b[0;31mNameError\u001b[0m: name 'trial' is not defined"
     ]
    }
   ],
   "source": [
    "import optuna\n",
    "study = optuna.create_study()\n",
    "study.optimize(objective, n_trials=20)\n",
    "print(\"Best trial:\")\n",
    "print(study.best_trial)\n",
    "\n",
    "print(\"  Value: {}\".format(trial.value))\n",
    "\n",
    "print(\"  Params: \")\n",
    "for key, value in trial.params.items():\n",
    "    print(\"    {}: {}\".format(key, value))"
   ]
  },
  {
   "cell_type": "code",
   "execution_count": null,
   "metadata": {},
   "outputs": [],
   "source": []
  }
 ],
 "metadata": {
  "kernelspec": {
   "display_name": "Python 3",
   "language": "python",
   "name": "python3"
  },
  "language_info": {
   "codemirror_mode": {
    "name": "ipython",
    "version": 3
   },
   "file_extension": ".py",
   "mimetype": "text/x-python",
   "name": "python",
   "nbconvert_exporter": "python",
   "pygments_lexer": "ipython3",
   "version": "3.7.6"
  }
 },
 "nbformat": 4,
 "nbformat_minor": 4
}
